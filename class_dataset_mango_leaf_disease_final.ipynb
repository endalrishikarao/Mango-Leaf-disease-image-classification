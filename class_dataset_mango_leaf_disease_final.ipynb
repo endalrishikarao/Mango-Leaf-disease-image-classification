{
  "metadata": {
    "kernelspec": {
      "language": "python",
      "display_name": "Python 3",
      "name": "python3"
    },
    "language_info": {
      "name": "python",
      "version": "3.7.12",
      "mimetype": "text/x-python",
      "codemirror_mode": {
        "name": "ipython",
        "version": 3
      },
      "pygments_lexer": "ipython3",
      "nbconvert_exporter": "python",
      "file_extension": ".py"
    },
    "colab": {
      "provenance": []
    }
  },
  "nbformat_minor": 0,
  "nbformat": 4,
  "cells": [
    {
      "cell_type": "markdown",
      "source": [
        "Rishika Endal\n"
      ],
      "metadata": {
        "id": "yl7VRG7-ILr9"
      }
    },
    {
      "cell_type": "markdown",
      "source": [
        "1002031323"
      ],
      "metadata": {
        "id": "u8iOfJktIRT7"
      }
    },
    {
      "cell_type": "markdown",
      "source": [
        "References:\n",
        "https://www.kaggle.com/code/gauravduttakiit/class-dataset-mango-leaf-disease \n",
        "https://www.analyticsvidhya.com/blog/2017/06/architecture-of-convolutional-neural-networks-simplified-demystified/ \n",
        "Scikit-learn documentation on Multinomial Naive Bayes: https://scikit-learn.org/stable/modules/generated/sklearn.naive_bayes.MultinomialNB.html\n",
        "A tutorial on implementing Multinomial Naive Bayes classifier in Python: https://towardsdatascience.com/naive-bayes-classifier-for-text-classification-with-python-76d31a0b2e00 \n",
        "Scikit-learn documentation on KNeighborsClassifier: https://scikit-learn.org/stable/modules/generated/sklearn.neighbors.KNeighborsClassifier.html\n",
        "Tutorial on KNN classification in Python: https://towardsdatascience.com/machine-learning-basics-with-the-k-nearest-neighbors-algorithm-6a6e71d01761\n",
        "KNN classification example using Python and Scikit-learn: https://machinelearningmastery.com/tutorial-to-implement-k-nearest-neighbors-in-python-from-scratch/\n",
        "https://medium.com/@rangavamsi5/na%C3%AFve-bayes-algorithm-implementation-from-scratch-in-python-7b2cc39268b9"
      ],
      "metadata": {
        "id": "n04LfbRmTeo-"
      }
    },
    {
      "cell_type": "code",
      "source": [
        "\n",
        "!pip install opendatasets \n",
        "!pip install pandas"
      ],
      "metadata": {
        "colab": {
          "base_uri": "https://localhost:8080/"
        },
        "id": "P4l33g9V33Y6",
        "outputId": "838d092f-865c-4b7b-ae5a-453b19172557"
      },
      "execution_count": 121,
      "outputs": [
        {
          "output_type": "stream",
          "name": "stdout",
          "text": [
            "Looking in indexes: https://pypi.org/simple, https://us-python.pkg.dev/colab-wheels/public/simple/\n",
            "Requirement already satisfied: opendatasets in /usr/local/lib/python3.10/dist-packages (0.1.22)\n",
            "Requirement already satisfied: click in /usr/local/lib/python3.10/dist-packages (from opendatasets) (8.1.3)\n",
            "Requirement already satisfied: kaggle in /usr/local/lib/python3.10/dist-packages (from opendatasets) (1.5.13)\n",
            "Requirement already satisfied: tqdm in /usr/local/lib/python3.10/dist-packages (from opendatasets) (4.65.0)\n",
            "Requirement already satisfied: requests in /usr/local/lib/python3.10/dist-packages (from kaggle->opendatasets) (2.27.1)\n",
            "Requirement already satisfied: python-slugify in /usr/local/lib/python3.10/dist-packages (from kaggle->opendatasets) (8.0.1)\n",
            "Requirement already satisfied: urllib3 in /usr/local/lib/python3.10/dist-packages (from kaggle->opendatasets) (1.26.15)\n",
            "Requirement already satisfied: certifi in /usr/local/lib/python3.10/dist-packages (from kaggle->opendatasets) (2022.12.7)\n",
            "Requirement already satisfied: python-dateutil in /usr/local/lib/python3.10/dist-packages (from kaggle->opendatasets) (2.8.2)\n",
            "Requirement already satisfied: six>=1.10 in /usr/local/lib/python3.10/dist-packages (from kaggle->opendatasets) (1.16.0)\n",
            "Requirement already satisfied: text-unidecode>=1.3 in /usr/local/lib/python3.10/dist-packages (from python-slugify->kaggle->opendatasets) (1.3)\n",
            "Requirement already satisfied: idna<4,>=2.5 in /usr/local/lib/python3.10/dist-packages (from requests->kaggle->opendatasets) (3.4)\n",
            "Requirement already satisfied: charset-normalizer~=2.0.0 in /usr/local/lib/python3.10/dist-packages (from requests->kaggle->opendatasets) (2.0.12)\n",
            "Looking in indexes: https://pypi.org/simple, https://us-python.pkg.dev/colab-wheels/public/simple/\n",
            "Requirement already satisfied: pandas in /usr/local/lib/python3.10/dist-packages (1.5.3)\n",
            "Requirement already satisfied: pytz>=2020.1 in /usr/local/lib/python3.10/dist-packages (from pandas) (2022.7.1)\n",
            "Requirement already satisfied: numpy>=1.21.0 in /usr/local/lib/python3.10/dist-packages (from pandas) (1.22.4)\n",
            "Requirement already satisfied: python-dateutil>=2.8.1 in /usr/local/lib/python3.10/dist-packages (from pandas) (2.8.2)\n",
            "Requirement already satisfied: six>=1.5 in /usr/local/lib/python3.10/dist-packages (from python-dateutil>=2.8.1->pandas) (1.16.0)\n"
          ]
        }
      ]
    },
    {
      "cell_type": "code",
      "source": [
        "\n",
        "import opendatasets as od\n",
        "import shutil, os\n",
        "import numpy as np\n",
        "import pandas as pd \n",
        "import seaborn as sns\n",
        "import matplotlib.pyplot as plt\n",
        "\n",
        "from tensorflow.keras.preprocessing.image import load_img, img_to_array\n",
        "from sklearn.model_selection import train_test_split\n",
        "from tensorflow.keras.utils import to_categorical\n",
        "from sklearn.preprocessing import LabelEncoder\n",
        "import tensorflow as tf\n",
        "from tensorflow.keras.models import Sequential\n",
        "from tensorflow.keras.layers import Conv2D, MaxPooling2D, Flatten, Dense, Dropout\n",
        "\n",
        "\n",
        "import matplotlib.pyplot as plt\n",
        "from tensorflow import keras\n",
        "from keras import layers, Sequential, models\n",
        "import pathlib\n",
        "\n",
        "from sklearn.tree import DecisionTreeClassifier\n",
        "from sklearn.naive_bayes import MultinomialNB\n",
        "from sklearn.neighbors import KNeighborsClassifier\n",
        "from sklearn.neural_network import MLPClassifier\n",
        "from sklearn.ensemble import VotingClassifier\n",
        "\n",
        "\n",
        "from sklearn.metrics import precision_score, recall_score, f1_score, confusion_matrix\n",
        "from sklearn.metrics import accuracy_score\n",
        "from sklearn.metrics import classification_report\n",
        "import shutil, os\n",
        "\n",
        "import numpy as np\n",
        "from tensorflow.keras.preprocessing.image import load_img, img_to_array\n",
        "from sklearn.model_selection import train_test_split\n",
        "from tensorflow.keras.optimizers import SGD\n",
        "from tensorflow.keras.losses import MeanSquaredError\n",
        "from tensorflow.keras.utils import to_categorical\n",
        "from sklearn.preprocessing import LabelEncoder\n",
        "from sklearn.naive_bayes import MultinomialNB\n",
        "from tensorflow.keras.preprocessing.image import load_img, img_to_array\n"
      ],
      "metadata": {
        "id": "S1hRYugi3-dh"
      },
      "execution_count": 122,
      "outputs": []
    },
    {
      "cell_type": "code",
      "source": [
        "od.download(\"https://www.kaggle.com/datasets/aryashah2k/mango-leaf-disease-dataset\")"
      ],
      "metadata": {
        "colab": {
          "base_uri": "https://localhost:8080/"
        },
        "id": "o8znwZpV37qx",
        "outputId": "f4f8abe0-e333-4495-a2c2-e0af6ce20270"
      },
      "execution_count": 123,
      "outputs": [
        {
          "output_type": "stream",
          "name": "stdout",
          "text": [
            "Skipping, found downloaded files in \"./mango-leaf-disease-dataset\" (use force=True to force download)\n"
          ]
        }
      ]
    },
    {
      "cell_type": "code",
      "source": [
        "Id=[]\n",
        "import numpy as np # linear algebra\n",
        "import pandas as pd # data processing, CSV file I/O (e.g. pd.read_csv)\n",
        "\n",
        "# Input data files are available in the read-only \"../input/\" directory\n",
        "# For example, running this (by clicking run or pressing Shift+Enter) will list all files under the input directory\n",
        "\n",
        "import os\n",
        "for dirname, _, filenames in os.walk('/content/mango-leaf-disease-dataset'):\n",
        "    for filename in filenames:\n",
        "        Id.append(os.path.join(dirname, filename))\n",
        "Id[:5]"
      ],
      "metadata": {
        "_uuid": "8f2839f25d086af736a60e9eeb907d3b93b6e0e5",
        "_cell_guid": "b1076dfc-b9ad-4769-8c92-a6c4dae69d19",
        "execution": {
          "iopub.status.busy": "2023-04-30T19:53:08.277474Z",
          "iopub.execute_input": "2023-04-30T19:53:08.277947Z",
          "iopub.status.idle": "2023-04-30T19:53:08.327691Z",
          "shell.execute_reply.started": "2023-04-30T19:53:08.277904Z",
          "shell.execute_reply": "2023-04-30T19:53:08.326540Z"
        },
        "trusted": true,
        "colab": {
          "base_uri": "https://localhost:8080/"
        },
        "id": "leENkcoS3c5C",
        "outputId": "fc145d76-fc84-4a12-833c-4bc1ef3b63d5"
      },
      "execution_count": 124,
      "outputs": [
        {
          "output_type": "execute_result",
          "data": {
            "text/plain": [
              "['/content/mango-leaf-disease-dataset/Die Back/20211129_161808 (Custom).jpg',\n",
              " '/content/mango-leaf-disease-dataset/Die Back/20211129_162050 (Custom).jpg',\n",
              " '/content/mango-leaf-disease-dataset/Die Back/20211129_160506 (Custom).jpg',\n",
              " '/content/mango-leaf-disease-dataset/Die Back/20211129_161805 (Custom).jpg',\n",
              " '/content/mango-leaf-disease-dataset/Die Back/20211129_160544 (Custom).jpg']"
            ]
          },
          "metadata": {},
          "execution_count": 124
        }
      ]
    },
    {
      "cell_type": "code",
      "source": [
        "train=pd.DataFrame()\n",
        "train=train.assign(filename=Id)\n",
        "train.head()"
      ],
      "metadata": {
        "execution": {
          "iopub.status.busy": "2023-04-30T19:53:08.330001Z",
          "iopub.execute_input": "2023-04-30T19:53:08.330746Z",
          "iopub.status.idle": "2023-04-30T19:53:08.348448Z",
          "shell.execute_reply.started": "2023-04-30T19:53:08.330689Z",
          "shell.execute_reply": "2023-04-30T19:53:08.346728Z"
        },
        "trusted": true,
        "colab": {
          "base_uri": "https://localhost:8080/",
          "height": 206
        },
        "id": "oakcgi8I3c5J",
        "outputId": "73dbdc17-9a8a-417c-c00e-dc11ea6d4cc7"
      },
      "execution_count": 125,
      "outputs": [
        {
          "output_type": "execute_result",
          "data": {
            "text/plain": [
              "                                            filename\n",
              "0  /content/mango-leaf-disease-dataset/Die Back/2...\n",
              "1  /content/mango-leaf-disease-dataset/Die Back/2...\n",
              "2  /content/mango-leaf-disease-dataset/Die Back/2...\n",
              "3  /content/mango-leaf-disease-dataset/Die Back/2...\n",
              "4  /content/mango-leaf-disease-dataset/Die Back/2..."
            ],
            "text/html": [
              "\n",
              "  <div id=\"df-6cc86d30-fe1b-4b48-9491-7f75a55ad2a8\">\n",
              "    <div class=\"colab-df-container\">\n",
              "      <div>\n",
              "<style scoped>\n",
              "    .dataframe tbody tr th:only-of-type {\n",
              "        vertical-align: middle;\n",
              "    }\n",
              "\n",
              "    .dataframe tbody tr th {\n",
              "        vertical-align: top;\n",
              "    }\n",
              "\n",
              "    .dataframe thead th {\n",
              "        text-align: right;\n",
              "    }\n",
              "</style>\n",
              "<table border=\"1\" class=\"dataframe\">\n",
              "  <thead>\n",
              "    <tr style=\"text-align: right;\">\n",
              "      <th></th>\n",
              "      <th>filename</th>\n",
              "    </tr>\n",
              "  </thead>\n",
              "  <tbody>\n",
              "    <tr>\n",
              "      <th>0</th>\n",
              "      <td>/content/mango-leaf-disease-dataset/Die Back/2...</td>\n",
              "    </tr>\n",
              "    <tr>\n",
              "      <th>1</th>\n",
              "      <td>/content/mango-leaf-disease-dataset/Die Back/2...</td>\n",
              "    </tr>\n",
              "    <tr>\n",
              "      <th>2</th>\n",
              "      <td>/content/mango-leaf-disease-dataset/Die Back/2...</td>\n",
              "    </tr>\n",
              "    <tr>\n",
              "      <th>3</th>\n",
              "      <td>/content/mango-leaf-disease-dataset/Die Back/2...</td>\n",
              "    </tr>\n",
              "    <tr>\n",
              "      <th>4</th>\n",
              "      <td>/content/mango-leaf-disease-dataset/Die Back/2...</td>\n",
              "    </tr>\n",
              "  </tbody>\n",
              "</table>\n",
              "</div>\n",
              "      <button class=\"colab-df-convert\" onclick=\"convertToInteractive('df-6cc86d30-fe1b-4b48-9491-7f75a55ad2a8')\"\n",
              "              title=\"Convert this dataframe to an interactive table.\"\n",
              "              style=\"display:none;\">\n",
              "        \n",
              "  <svg xmlns=\"http://www.w3.org/2000/svg\" height=\"24px\"viewBox=\"0 0 24 24\"\n",
              "       width=\"24px\">\n",
              "    <path d=\"M0 0h24v24H0V0z\" fill=\"none\"/>\n",
              "    <path d=\"M18.56 5.44l.94 2.06.94-2.06 2.06-.94-2.06-.94-.94-2.06-.94 2.06-2.06.94zm-11 1L8.5 8.5l.94-2.06 2.06-.94-2.06-.94L8.5 2.5l-.94 2.06-2.06.94zm10 10l.94 2.06.94-2.06 2.06-.94-2.06-.94-.94-2.06-.94 2.06-2.06.94z\"/><path d=\"M17.41 7.96l-1.37-1.37c-.4-.4-.92-.59-1.43-.59-.52 0-1.04.2-1.43.59L10.3 9.45l-7.72 7.72c-.78.78-.78 2.05 0 2.83L4 21.41c.39.39.9.59 1.41.59.51 0 1.02-.2 1.41-.59l7.78-7.78 2.81-2.81c.8-.78.8-2.07 0-2.86zM5.41 20L4 18.59l7.72-7.72 1.47 1.35L5.41 20z\"/>\n",
              "  </svg>\n",
              "      </button>\n",
              "      \n",
              "  <style>\n",
              "    .colab-df-container {\n",
              "      display:flex;\n",
              "      flex-wrap:wrap;\n",
              "      gap: 12px;\n",
              "    }\n",
              "\n",
              "    .colab-df-convert {\n",
              "      background-color: #E8F0FE;\n",
              "      border: none;\n",
              "      border-radius: 50%;\n",
              "      cursor: pointer;\n",
              "      display: none;\n",
              "      fill: #1967D2;\n",
              "      height: 32px;\n",
              "      padding: 0 0 0 0;\n",
              "      width: 32px;\n",
              "    }\n",
              "\n",
              "    .colab-df-convert:hover {\n",
              "      background-color: #E2EBFA;\n",
              "      box-shadow: 0px 1px 2px rgba(60, 64, 67, 0.3), 0px 1px 3px 1px rgba(60, 64, 67, 0.15);\n",
              "      fill: #174EA6;\n",
              "    }\n",
              "\n",
              "    [theme=dark] .colab-df-convert {\n",
              "      background-color: #3B4455;\n",
              "      fill: #D2E3FC;\n",
              "    }\n",
              "\n",
              "    [theme=dark] .colab-df-convert:hover {\n",
              "      background-color: #434B5C;\n",
              "      box-shadow: 0px 1px 3px 1px rgba(0, 0, 0, 0.15);\n",
              "      filter: drop-shadow(0px 1px 2px rgba(0, 0, 0, 0.3));\n",
              "      fill: #FFFFFF;\n",
              "    }\n",
              "  </style>\n",
              "\n",
              "      <script>\n",
              "        const buttonEl =\n",
              "          document.querySelector('#df-6cc86d30-fe1b-4b48-9491-7f75a55ad2a8 button.colab-df-convert');\n",
              "        buttonEl.style.display =\n",
              "          google.colab.kernel.accessAllowed ? 'block' : 'none';\n",
              "\n",
              "        async function convertToInteractive(key) {\n",
              "          const element = document.querySelector('#df-6cc86d30-fe1b-4b48-9491-7f75a55ad2a8');\n",
              "          const dataTable =\n",
              "            await google.colab.kernel.invokeFunction('convertToInteractive',\n",
              "                                                     [key], {});\n",
              "          if (!dataTable) return;\n",
              "\n",
              "          const docLinkHtml = 'Like what you see? Visit the ' +\n",
              "            '<a target=\"_blank\" href=https://colab.research.google.com/notebooks/data_table.ipynb>data table notebook</a>'\n",
              "            + ' to learn more about interactive tables.';\n",
              "          element.innerHTML = '';\n",
              "          dataTable['output_type'] = 'display_data';\n",
              "          await google.colab.output.renderOutput(dataTable, element);\n",
              "          const docLink = document.createElement('div');\n",
              "          docLink.innerHTML = docLinkHtml;\n",
              "          element.appendChild(docLink);\n",
              "        }\n",
              "      </script>\n",
              "    </div>\n",
              "  </div>\n",
              "  "
            ]
          },
          "metadata": {},
          "execution_count": 125
        }
      ]
    },
    {
      "cell_type": "code",
      "source": [
        "train['label']=train['filename']\n",
        "train['label']=train['label'].str.replace('/content/mango-leaf-disease-dataset/','')\n",
        "train.head()"
      ],
      "metadata": {
        "execution": {
          "iopub.status.busy": "2023-04-30T19:53:08.352744Z",
          "iopub.execute_input": "2023-04-30T19:53:08.353455Z",
          "iopub.status.idle": "2023-04-30T19:53:08.376948Z",
          "shell.execute_reply.started": "2023-04-30T19:53:08.353396Z",
          "shell.execute_reply": "2023-04-30T19:53:08.375127Z"
        },
        "trusted": true,
        "colab": {
          "base_uri": "https://localhost:8080/",
          "height": 206
        },
        "id": "uHGW8Pz73c5K",
        "outputId": "f589cd60-ec68-4e9a-8bb5-36e3fdec24f2"
      },
      "execution_count": 126,
      "outputs": [
        {
          "output_type": "execute_result",
          "data": {
            "text/plain": [
              "                                            filename  \\\n",
              "0  /content/mango-leaf-disease-dataset/Die Back/2...   \n",
              "1  /content/mango-leaf-disease-dataset/Die Back/2...   \n",
              "2  /content/mango-leaf-disease-dataset/Die Back/2...   \n",
              "3  /content/mango-leaf-disease-dataset/Die Back/2...   \n",
              "4  /content/mango-leaf-disease-dataset/Die Back/2...   \n",
              "\n",
              "                                   label  \n",
              "0  Die Back/20211129_161808 (Custom).jpg  \n",
              "1  Die Back/20211129_162050 (Custom).jpg  \n",
              "2  Die Back/20211129_160506 (Custom).jpg  \n",
              "3  Die Back/20211129_161805 (Custom).jpg  \n",
              "4  Die Back/20211129_160544 (Custom).jpg  "
            ],
            "text/html": [
              "\n",
              "  <div id=\"df-972261e0-dfdb-44e8-8e18-399204fd9239\">\n",
              "    <div class=\"colab-df-container\">\n",
              "      <div>\n",
              "<style scoped>\n",
              "    .dataframe tbody tr th:only-of-type {\n",
              "        vertical-align: middle;\n",
              "    }\n",
              "\n",
              "    .dataframe tbody tr th {\n",
              "        vertical-align: top;\n",
              "    }\n",
              "\n",
              "    .dataframe thead th {\n",
              "        text-align: right;\n",
              "    }\n",
              "</style>\n",
              "<table border=\"1\" class=\"dataframe\">\n",
              "  <thead>\n",
              "    <tr style=\"text-align: right;\">\n",
              "      <th></th>\n",
              "      <th>filename</th>\n",
              "      <th>label</th>\n",
              "    </tr>\n",
              "  </thead>\n",
              "  <tbody>\n",
              "    <tr>\n",
              "      <th>0</th>\n",
              "      <td>/content/mango-leaf-disease-dataset/Die Back/2...</td>\n",
              "      <td>Die Back/20211129_161808 (Custom).jpg</td>\n",
              "    </tr>\n",
              "    <tr>\n",
              "      <th>1</th>\n",
              "      <td>/content/mango-leaf-disease-dataset/Die Back/2...</td>\n",
              "      <td>Die Back/20211129_162050 (Custom).jpg</td>\n",
              "    </tr>\n",
              "    <tr>\n",
              "      <th>2</th>\n",
              "      <td>/content/mango-leaf-disease-dataset/Die Back/2...</td>\n",
              "      <td>Die Back/20211129_160506 (Custom).jpg</td>\n",
              "    </tr>\n",
              "    <tr>\n",
              "      <th>3</th>\n",
              "      <td>/content/mango-leaf-disease-dataset/Die Back/2...</td>\n",
              "      <td>Die Back/20211129_161805 (Custom).jpg</td>\n",
              "    </tr>\n",
              "    <tr>\n",
              "      <th>4</th>\n",
              "      <td>/content/mango-leaf-disease-dataset/Die Back/2...</td>\n",
              "      <td>Die Back/20211129_160544 (Custom).jpg</td>\n",
              "    </tr>\n",
              "  </tbody>\n",
              "</table>\n",
              "</div>\n",
              "      <button class=\"colab-df-convert\" onclick=\"convertToInteractive('df-972261e0-dfdb-44e8-8e18-399204fd9239')\"\n",
              "              title=\"Convert this dataframe to an interactive table.\"\n",
              "              style=\"display:none;\">\n",
              "        \n",
              "  <svg xmlns=\"http://www.w3.org/2000/svg\" height=\"24px\"viewBox=\"0 0 24 24\"\n",
              "       width=\"24px\">\n",
              "    <path d=\"M0 0h24v24H0V0z\" fill=\"none\"/>\n",
              "    <path d=\"M18.56 5.44l.94 2.06.94-2.06 2.06-.94-2.06-.94-.94-2.06-.94 2.06-2.06.94zm-11 1L8.5 8.5l.94-2.06 2.06-.94-2.06-.94L8.5 2.5l-.94 2.06-2.06.94zm10 10l.94 2.06.94-2.06 2.06-.94-2.06-.94-.94-2.06-.94 2.06-2.06.94z\"/><path d=\"M17.41 7.96l-1.37-1.37c-.4-.4-.92-.59-1.43-.59-.52 0-1.04.2-1.43.59L10.3 9.45l-7.72 7.72c-.78.78-.78 2.05 0 2.83L4 21.41c.39.39.9.59 1.41.59.51 0 1.02-.2 1.41-.59l7.78-7.78 2.81-2.81c.8-.78.8-2.07 0-2.86zM5.41 20L4 18.59l7.72-7.72 1.47 1.35L5.41 20z\"/>\n",
              "  </svg>\n",
              "      </button>\n",
              "      \n",
              "  <style>\n",
              "    .colab-df-container {\n",
              "      display:flex;\n",
              "      flex-wrap:wrap;\n",
              "      gap: 12px;\n",
              "    }\n",
              "\n",
              "    .colab-df-convert {\n",
              "      background-color: #E8F0FE;\n",
              "      border: none;\n",
              "      border-radius: 50%;\n",
              "      cursor: pointer;\n",
              "      display: none;\n",
              "      fill: #1967D2;\n",
              "      height: 32px;\n",
              "      padding: 0 0 0 0;\n",
              "      width: 32px;\n",
              "    }\n",
              "\n",
              "    .colab-df-convert:hover {\n",
              "      background-color: #E2EBFA;\n",
              "      box-shadow: 0px 1px 2px rgba(60, 64, 67, 0.3), 0px 1px 3px 1px rgba(60, 64, 67, 0.15);\n",
              "      fill: #174EA6;\n",
              "    }\n",
              "\n",
              "    [theme=dark] .colab-df-convert {\n",
              "      background-color: #3B4455;\n",
              "      fill: #D2E3FC;\n",
              "    }\n",
              "\n",
              "    [theme=dark] .colab-df-convert:hover {\n",
              "      background-color: #434B5C;\n",
              "      box-shadow: 0px 1px 3px 1px rgba(0, 0, 0, 0.15);\n",
              "      filter: drop-shadow(0px 1px 2px rgba(0, 0, 0, 0.3));\n",
              "      fill: #FFFFFF;\n",
              "    }\n",
              "  </style>\n",
              "\n",
              "      <script>\n",
              "        const buttonEl =\n",
              "          document.querySelector('#df-972261e0-dfdb-44e8-8e18-399204fd9239 button.colab-df-convert');\n",
              "        buttonEl.style.display =\n",
              "          google.colab.kernel.accessAllowed ? 'block' : 'none';\n",
              "\n",
              "        async function convertToInteractive(key) {\n",
              "          const element = document.querySelector('#df-972261e0-dfdb-44e8-8e18-399204fd9239');\n",
              "          const dataTable =\n",
              "            await google.colab.kernel.invokeFunction('convertToInteractive',\n",
              "                                                     [key], {});\n",
              "          if (!dataTable) return;\n",
              "\n",
              "          const docLinkHtml = 'Like what you see? Visit the ' +\n",
              "            '<a target=\"_blank\" href=https://colab.research.google.com/notebooks/data_table.ipynb>data table notebook</a>'\n",
              "            + ' to learn more about interactive tables.';\n",
              "          element.innerHTML = '';\n",
              "          dataTable['output_type'] = 'display_data';\n",
              "          await google.colab.output.renderOutput(dataTable, element);\n",
              "          const docLink = document.createElement('div');\n",
              "          docLink.innerHTML = docLinkHtml;\n",
              "          element.appendChild(docLink);\n",
              "        }\n",
              "      </script>\n",
              "    </div>\n",
              "  </div>\n",
              "  "
            ]
          },
          "metadata": {},
          "execution_count": 126
        }
      ]
    },
    {
      "cell_type": "code",
      "source": [
        "train['label'] = train['label'].str.split('/').str[0]\n",
        "train.head()"
      ],
      "metadata": {
        "execution": {
          "iopub.status.busy": "2023-04-30T19:53:08.380614Z",
          "iopub.execute_input": "2023-04-30T19:53:08.381141Z",
          "iopub.status.idle": "2023-04-30T19:53:08.408836Z",
          "shell.execute_reply.started": "2023-04-30T19:53:08.381087Z",
          "shell.execute_reply": "2023-04-30T19:53:08.406778Z"
        },
        "trusted": true,
        "colab": {
          "base_uri": "https://localhost:8080/",
          "height": 206
        },
        "id": "qHg8G9O_3c5K",
        "outputId": "73b7cb98-61d3-48fe-83ee-be94dabacb49"
      },
      "execution_count": 127,
      "outputs": [
        {
          "output_type": "execute_result",
          "data": {
            "text/plain": [
              "                                            filename     label\n",
              "0  /content/mango-leaf-disease-dataset/Die Back/2...  Die Back\n",
              "1  /content/mango-leaf-disease-dataset/Die Back/2...  Die Back\n",
              "2  /content/mango-leaf-disease-dataset/Die Back/2...  Die Back\n",
              "3  /content/mango-leaf-disease-dataset/Die Back/2...  Die Back\n",
              "4  /content/mango-leaf-disease-dataset/Die Back/2...  Die Back"
            ],
            "text/html": [
              "\n",
              "  <div id=\"df-3b6b52d3-17f1-4b8f-9794-c4d20af4ee81\">\n",
              "    <div class=\"colab-df-container\">\n",
              "      <div>\n",
              "<style scoped>\n",
              "    .dataframe tbody tr th:only-of-type {\n",
              "        vertical-align: middle;\n",
              "    }\n",
              "\n",
              "    .dataframe tbody tr th {\n",
              "        vertical-align: top;\n",
              "    }\n",
              "\n",
              "    .dataframe thead th {\n",
              "        text-align: right;\n",
              "    }\n",
              "</style>\n",
              "<table border=\"1\" class=\"dataframe\">\n",
              "  <thead>\n",
              "    <tr style=\"text-align: right;\">\n",
              "      <th></th>\n",
              "      <th>filename</th>\n",
              "      <th>label</th>\n",
              "    </tr>\n",
              "  </thead>\n",
              "  <tbody>\n",
              "    <tr>\n",
              "      <th>0</th>\n",
              "      <td>/content/mango-leaf-disease-dataset/Die Back/2...</td>\n",
              "      <td>Die Back</td>\n",
              "    </tr>\n",
              "    <tr>\n",
              "      <th>1</th>\n",
              "      <td>/content/mango-leaf-disease-dataset/Die Back/2...</td>\n",
              "      <td>Die Back</td>\n",
              "    </tr>\n",
              "    <tr>\n",
              "      <th>2</th>\n",
              "      <td>/content/mango-leaf-disease-dataset/Die Back/2...</td>\n",
              "      <td>Die Back</td>\n",
              "    </tr>\n",
              "    <tr>\n",
              "      <th>3</th>\n",
              "      <td>/content/mango-leaf-disease-dataset/Die Back/2...</td>\n",
              "      <td>Die Back</td>\n",
              "    </tr>\n",
              "    <tr>\n",
              "      <th>4</th>\n",
              "      <td>/content/mango-leaf-disease-dataset/Die Back/2...</td>\n",
              "      <td>Die Back</td>\n",
              "    </tr>\n",
              "  </tbody>\n",
              "</table>\n",
              "</div>\n",
              "      <button class=\"colab-df-convert\" onclick=\"convertToInteractive('df-3b6b52d3-17f1-4b8f-9794-c4d20af4ee81')\"\n",
              "              title=\"Convert this dataframe to an interactive table.\"\n",
              "              style=\"display:none;\">\n",
              "        \n",
              "  <svg xmlns=\"http://www.w3.org/2000/svg\" height=\"24px\"viewBox=\"0 0 24 24\"\n",
              "       width=\"24px\">\n",
              "    <path d=\"M0 0h24v24H0V0z\" fill=\"none\"/>\n",
              "    <path d=\"M18.56 5.44l.94 2.06.94-2.06 2.06-.94-2.06-.94-.94-2.06-.94 2.06-2.06.94zm-11 1L8.5 8.5l.94-2.06 2.06-.94-2.06-.94L8.5 2.5l-.94 2.06-2.06.94zm10 10l.94 2.06.94-2.06 2.06-.94-2.06-.94-.94-2.06-.94 2.06-2.06.94z\"/><path d=\"M17.41 7.96l-1.37-1.37c-.4-.4-.92-.59-1.43-.59-.52 0-1.04.2-1.43.59L10.3 9.45l-7.72 7.72c-.78.78-.78 2.05 0 2.83L4 21.41c.39.39.9.59 1.41.59.51 0 1.02-.2 1.41-.59l7.78-7.78 2.81-2.81c.8-.78.8-2.07 0-2.86zM5.41 20L4 18.59l7.72-7.72 1.47 1.35L5.41 20z\"/>\n",
              "  </svg>\n",
              "      </button>\n",
              "      \n",
              "  <style>\n",
              "    .colab-df-container {\n",
              "      display:flex;\n",
              "      flex-wrap:wrap;\n",
              "      gap: 12px;\n",
              "    }\n",
              "\n",
              "    .colab-df-convert {\n",
              "      background-color: #E8F0FE;\n",
              "      border: none;\n",
              "      border-radius: 50%;\n",
              "      cursor: pointer;\n",
              "      display: none;\n",
              "      fill: #1967D2;\n",
              "      height: 32px;\n",
              "      padding: 0 0 0 0;\n",
              "      width: 32px;\n",
              "    }\n",
              "\n",
              "    .colab-df-convert:hover {\n",
              "      background-color: #E2EBFA;\n",
              "      box-shadow: 0px 1px 2px rgba(60, 64, 67, 0.3), 0px 1px 3px 1px rgba(60, 64, 67, 0.15);\n",
              "      fill: #174EA6;\n",
              "    }\n",
              "\n",
              "    [theme=dark] .colab-df-convert {\n",
              "      background-color: #3B4455;\n",
              "      fill: #D2E3FC;\n",
              "    }\n",
              "\n",
              "    [theme=dark] .colab-df-convert:hover {\n",
              "      background-color: #434B5C;\n",
              "      box-shadow: 0px 1px 3px 1px rgba(0, 0, 0, 0.15);\n",
              "      filter: drop-shadow(0px 1px 2px rgba(0, 0, 0, 0.3));\n",
              "      fill: #FFFFFF;\n",
              "    }\n",
              "  </style>\n",
              "\n",
              "      <script>\n",
              "        const buttonEl =\n",
              "          document.querySelector('#df-3b6b52d3-17f1-4b8f-9794-c4d20af4ee81 button.colab-df-convert');\n",
              "        buttonEl.style.display =\n",
              "          google.colab.kernel.accessAllowed ? 'block' : 'none';\n",
              "\n",
              "        async function convertToInteractive(key) {\n",
              "          const element = document.querySelector('#df-3b6b52d3-17f1-4b8f-9794-c4d20af4ee81');\n",
              "          const dataTable =\n",
              "            await google.colab.kernel.invokeFunction('convertToInteractive',\n",
              "                                                     [key], {});\n",
              "          if (!dataTable) return;\n",
              "\n",
              "          const docLinkHtml = 'Like what you see? Visit the ' +\n",
              "            '<a target=\"_blank\" href=https://colab.research.google.com/notebooks/data_table.ipynb>data table notebook</a>'\n",
              "            + ' to learn more about interactive tables.';\n",
              "          element.innerHTML = '';\n",
              "          dataTable['output_type'] = 'display_data';\n",
              "          await google.colab.output.renderOutput(dataTable, element);\n",
              "          const docLink = document.createElement('div');\n",
              "          docLink.innerHTML = docLinkHtml;\n",
              "          element.appendChild(docLink);\n",
              "        }\n",
              "      </script>\n",
              "    </div>\n",
              "  </div>\n",
              "  "
            ]
          },
          "metadata": {},
          "execution_count": 127
        }
      ]
    },
    {
      "cell_type": "code",
      "source": [
        "train=train.sample(n=len(train))\n",
        "train.reset_index(inplace=True,drop=True)\n",
        "train.head()"
      ],
      "metadata": {
        "execution": {
          "iopub.status.busy": "2023-04-30T19:53:08.410770Z",
          "iopub.execute_input": "2023-04-30T19:53:08.411427Z",
          "iopub.status.idle": "2023-04-30T19:53:08.430555Z",
          "shell.execute_reply.started": "2023-04-30T19:53:08.411368Z",
          "shell.execute_reply": "2023-04-30T19:53:08.428456Z"
        },
        "trusted": true,
        "colab": {
          "base_uri": "https://localhost:8080/",
          "height": 206
        },
        "id": "PyYkpr3t3c5L",
        "outputId": "b4e5cdf0-db3d-49b8-fb73-836042dd4d88"
      },
      "execution_count": 128,
      "outputs": [
        {
          "output_type": "execute_result",
          "data": {
            "text/plain": [
              "                                            filename             label\n",
              "0  /content/mango-leaf-disease-dataset/Gall Midge...        Gall Midge\n",
              "1  /content/mango-leaf-disease-dataset/Anthracnos...       Anthracnose\n",
              "2  /content/mango-leaf-disease-dataset/Bacterial ...  Bacterial Canker\n",
              "3  /content/mango-leaf-disease-dataset/Sooty Moul...       Sooty Mould\n",
              "4  /content/mango-leaf-disease-dataset/Die Back/2...          Die Back"
            ],
            "text/html": [
              "\n",
              "  <div id=\"df-930e33b9-eab5-4852-afe8-a57b886d4275\">\n",
              "    <div class=\"colab-df-container\">\n",
              "      <div>\n",
              "<style scoped>\n",
              "    .dataframe tbody tr th:only-of-type {\n",
              "        vertical-align: middle;\n",
              "    }\n",
              "\n",
              "    .dataframe tbody tr th {\n",
              "        vertical-align: top;\n",
              "    }\n",
              "\n",
              "    .dataframe thead th {\n",
              "        text-align: right;\n",
              "    }\n",
              "</style>\n",
              "<table border=\"1\" class=\"dataframe\">\n",
              "  <thead>\n",
              "    <tr style=\"text-align: right;\">\n",
              "      <th></th>\n",
              "      <th>filename</th>\n",
              "      <th>label</th>\n",
              "    </tr>\n",
              "  </thead>\n",
              "  <tbody>\n",
              "    <tr>\n",
              "      <th>0</th>\n",
              "      <td>/content/mango-leaf-disease-dataset/Gall Midge...</td>\n",
              "      <td>Gall Midge</td>\n",
              "    </tr>\n",
              "    <tr>\n",
              "      <th>1</th>\n",
              "      <td>/content/mango-leaf-disease-dataset/Anthracnos...</td>\n",
              "      <td>Anthracnose</td>\n",
              "    </tr>\n",
              "    <tr>\n",
              "      <th>2</th>\n",
              "      <td>/content/mango-leaf-disease-dataset/Bacterial ...</td>\n",
              "      <td>Bacterial Canker</td>\n",
              "    </tr>\n",
              "    <tr>\n",
              "      <th>3</th>\n",
              "      <td>/content/mango-leaf-disease-dataset/Sooty Moul...</td>\n",
              "      <td>Sooty Mould</td>\n",
              "    </tr>\n",
              "    <tr>\n",
              "      <th>4</th>\n",
              "      <td>/content/mango-leaf-disease-dataset/Die Back/2...</td>\n",
              "      <td>Die Back</td>\n",
              "    </tr>\n",
              "  </tbody>\n",
              "</table>\n",
              "</div>\n",
              "      <button class=\"colab-df-convert\" onclick=\"convertToInteractive('df-930e33b9-eab5-4852-afe8-a57b886d4275')\"\n",
              "              title=\"Convert this dataframe to an interactive table.\"\n",
              "              style=\"display:none;\">\n",
              "        \n",
              "  <svg xmlns=\"http://www.w3.org/2000/svg\" height=\"24px\"viewBox=\"0 0 24 24\"\n",
              "       width=\"24px\">\n",
              "    <path d=\"M0 0h24v24H0V0z\" fill=\"none\"/>\n",
              "    <path d=\"M18.56 5.44l.94 2.06.94-2.06 2.06-.94-2.06-.94-.94-2.06-.94 2.06-2.06.94zm-11 1L8.5 8.5l.94-2.06 2.06-.94-2.06-.94L8.5 2.5l-.94 2.06-2.06.94zm10 10l.94 2.06.94-2.06 2.06-.94-2.06-.94-.94-2.06-.94 2.06-2.06.94z\"/><path d=\"M17.41 7.96l-1.37-1.37c-.4-.4-.92-.59-1.43-.59-.52 0-1.04.2-1.43.59L10.3 9.45l-7.72 7.72c-.78.78-.78 2.05 0 2.83L4 21.41c.39.39.9.59 1.41.59.51 0 1.02-.2 1.41-.59l7.78-7.78 2.81-2.81c.8-.78.8-2.07 0-2.86zM5.41 20L4 18.59l7.72-7.72 1.47 1.35L5.41 20z\"/>\n",
              "  </svg>\n",
              "      </button>\n",
              "      \n",
              "  <style>\n",
              "    .colab-df-container {\n",
              "      display:flex;\n",
              "      flex-wrap:wrap;\n",
              "      gap: 12px;\n",
              "    }\n",
              "\n",
              "    .colab-df-convert {\n",
              "      background-color: #E8F0FE;\n",
              "      border: none;\n",
              "      border-radius: 50%;\n",
              "      cursor: pointer;\n",
              "      display: none;\n",
              "      fill: #1967D2;\n",
              "      height: 32px;\n",
              "      padding: 0 0 0 0;\n",
              "      width: 32px;\n",
              "    }\n",
              "\n",
              "    .colab-df-convert:hover {\n",
              "      background-color: #E2EBFA;\n",
              "      box-shadow: 0px 1px 2px rgba(60, 64, 67, 0.3), 0px 1px 3px 1px rgba(60, 64, 67, 0.15);\n",
              "      fill: #174EA6;\n",
              "    }\n",
              "\n",
              "    [theme=dark] .colab-df-convert {\n",
              "      background-color: #3B4455;\n",
              "      fill: #D2E3FC;\n",
              "    }\n",
              "\n",
              "    [theme=dark] .colab-df-convert:hover {\n",
              "      background-color: #434B5C;\n",
              "      box-shadow: 0px 1px 3px 1px rgba(0, 0, 0, 0.15);\n",
              "      filter: drop-shadow(0px 1px 2px rgba(0, 0, 0, 0.3));\n",
              "      fill: #FFFFFF;\n",
              "    }\n",
              "  </style>\n",
              "\n",
              "      <script>\n",
              "        const buttonEl =\n",
              "          document.querySelector('#df-930e33b9-eab5-4852-afe8-a57b886d4275 button.colab-df-convert');\n",
              "        buttonEl.style.display =\n",
              "          google.colab.kernel.accessAllowed ? 'block' : 'none';\n",
              "\n",
              "        async function convertToInteractive(key) {\n",
              "          const element = document.querySelector('#df-930e33b9-eab5-4852-afe8-a57b886d4275');\n",
              "          const dataTable =\n",
              "            await google.colab.kernel.invokeFunction('convertToInteractive',\n",
              "                                                     [key], {});\n",
              "          if (!dataTable) return;\n",
              "\n",
              "          const docLinkHtml = 'Like what you see? Visit the ' +\n",
              "            '<a target=\"_blank\" href=https://colab.research.google.com/notebooks/data_table.ipynb>data table notebook</a>'\n",
              "            + ' to learn more about interactive tables.';\n",
              "          element.innerHTML = '';\n",
              "          dataTable['output_type'] = 'display_data';\n",
              "          await google.colab.output.renderOutput(dataTable, element);\n",
              "          const docLink = document.createElement('div');\n",
              "          docLink.innerHTML = docLinkHtml;\n",
              "          element.appendChild(docLink);\n",
              "        }\n",
              "      </script>\n",
              "    </div>\n",
              "  </div>\n",
              "  "
            ]
          },
          "metadata": {},
          "execution_count": 128
        }
      ]
    },
    {
      "cell_type": "code",
      "source": [
        "test=train[int(len(train)*.8):]\n",
        "test.head()"
      ],
      "metadata": {
        "execution": {
          "iopub.status.busy": "2023-04-30T19:53:08.432801Z",
          "iopub.execute_input": "2023-04-30T19:53:08.433333Z",
          "iopub.status.idle": "2023-04-30T19:53:08.449814Z",
          "shell.execute_reply.started": "2023-04-30T19:53:08.433291Z",
          "shell.execute_reply": "2023-04-30T19:53:08.448211Z"
        },
        "trusted": true,
        "colab": {
          "base_uri": "https://localhost:8080/",
          "height": 206
        },
        "id": "jnE5P35C3c5M",
        "outputId": "16d2dfea-9304-4aa8-c804-baaabbbc63e6"
      },
      "execution_count": 129,
      "outputs": [
        {
          "output_type": "execute_result",
          "data": {
            "text/plain": [
              "                                               filename           label\n",
              "3200  /content/mango-leaf-disease-dataset/Healthy/20...         Healthy\n",
              "3201  /content/mango-leaf-disease-dataset/Gall Midge...      Gall Midge\n",
              "3202  /content/mango-leaf-disease-dataset/Powdery Mi...  Powdery Mildew\n",
              "3203  /content/mango-leaf-disease-dataset/Cutting We...  Cutting Weevil\n",
              "3204  /content/mango-leaf-disease-dataset/Anthracnos...     Anthracnose"
            ],
            "text/html": [
              "\n",
              "  <div id=\"df-2363492e-a96f-47f6-9050-71766b61f62e\">\n",
              "    <div class=\"colab-df-container\">\n",
              "      <div>\n",
              "<style scoped>\n",
              "    .dataframe tbody tr th:only-of-type {\n",
              "        vertical-align: middle;\n",
              "    }\n",
              "\n",
              "    .dataframe tbody tr th {\n",
              "        vertical-align: top;\n",
              "    }\n",
              "\n",
              "    .dataframe thead th {\n",
              "        text-align: right;\n",
              "    }\n",
              "</style>\n",
              "<table border=\"1\" class=\"dataframe\">\n",
              "  <thead>\n",
              "    <tr style=\"text-align: right;\">\n",
              "      <th></th>\n",
              "      <th>filename</th>\n",
              "      <th>label</th>\n",
              "    </tr>\n",
              "  </thead>\n",
              "  <tbody>\n",
              "    <tr>\n",
              "      <th>3200</th>\n",
              "      <td>/content/mango-leaf-disease-dataset/Healthy/20...</td>\n",
              "      <td>Healthy</td>\n",
              "    </tr>\n",
              "    <tr>\n",
              "      <th>3201</th>\n",
              "      <td>/content/mango-leaf-disease-dataset/Gall Midge...</td>\n",
              "      <td>Gall Midge</td>\n",
              "    </tr>\n",
              "    <tr>\n",
              "      <th>3202</th>\n",
              "      <td>/content/mango-leaf-disease-dataset/Powdery Mi...</td>\n",
              "      <td>Powdery Mildew</td>\n",
              "    </tr>\n",
              "    <tr>\n",
              "      <th>3203</th>\n",
              "      <td>/content/mango-leaf-disease-dataset/Cutting We...</td>\n",
              "      <td>Cutting Weevil</td>\n",
              "    </tr>\n",
              "    <tr>\n",
              "      <th>3204</th>\n",
              "      <td>/content/mango-leaf-disease-dataset/Anthracnos...</td>\n",
              "      <td>Anthracnose</td>\n",
              "    </tr>\n",
              "  </tbody>\n",
              "</table>\n",
              "</div>\n",
              "      <button class=\"colab-df-convert\" onclick=\"convertToInteractive('df-2363492e-a96f-47f6-9050-71766b61f62e')\"\n",
              "              title=\"Convert this dataframe to an interactive table.\"\n",
              "              style=\"display:none;\">\n",
              "        \n",
              "  <svg xmlns=\"http://www.w3.org/2000/svg\" height=\"24px\"viewBox=\"0 0 24 24\"\n",
              "       width=\"24px\">\n",
              "    <path d=\"M0 0h24v24H0V0z\" fill=\"none\"/>\n",
              "    <path d=\"M18.56 5.44l.94 2.06.94-2.06 2.06-.94-2.06-.94-.94-2.06-.94 2.06-2.06.94zm-11 1L8.5 8.5l.94-2.06 2.06-.94-2.06-.94L8.5 2.5l-.94 2.06-2.06.94zm10 10l.94 2.06.94-2.06 2.06-.94-2.06-.94-.94-2.06-.94 2.06-2.06.94z\"/><path d=\"M17.41 7.96l-1.37-1.37c-.4-.4-.92-.59-1.43-.59-.52 0-1.04.2-1.43.59L10.3 9.45l-7.72 7.72c-.78.78-.78 2.05 0 2.83L4 21.41c.39.39.9.59 1.41.59.51 0 1.02-.2 1.41-.59l7.78-7.78 2.81-2.81c.8-.78.8-2.07 0-2.86zM5.41 20L4 18.59l7.72-7.72 1.47 1.35L5.41 20z\"/>\n",
              "  </svg>\n",
              "      </button>\n",
              "      \n",
              "  <style>\n",
              "    .colab-df-container {\n",
              "      display:flex;\n",
              "      flex-wrap:wrap;\n",
              "      gap: 12px;\n",
              "    }\n",
              "\n",
              "    .colab-df-convert {\n",
              "      background-color: #E8F0FE;\n",
              "      border: none;\n",
              "      border-radius: 50%;\n",
              "      cursor: pointer;\n",
              "      display: none;\n",
              "      fill: #1967D2;\n",
              "      height: 32px;\n",
              "      padding: 0 0 0 0;\n",
              "      width: 32px;\n",
              "    }\n",
              "\n",
              "    .colab-df-convert:hover {\n",
              "      background-color: #E2EBFA;\n",
              "      box-shadow: 0px 1px 2px rgba(60, 64, 67, 0.3), 0px 1px 3px 1px rgba(60, 64, 67, 0.15);\n",
              "      fill: #174EA6;\n",
              "    }\n",
              "\n",
              "    [theme=dark] .colab-df-convert {\n",
              "      background-color: #3B4455;\n",
              "      fill: #D2E3FC;\n",
              "    }\n",
              "\n",
              "    [theme=dark] .colab-df-convert:hover {\n",
              "      background-color: #434B5C;\n",
              "      box-shadow: 0px 1px 3px 1px rgba(0, 0, 0, 0.15);\n",
              "      filter: drop-shadow(0px 1px 2px rgba(0, 0, 0, 0.3));\n",
              "      fill: #FFFFFF;\n",
              "    }\n",
              "  </style>\n",
              "\n",
              "      <script>\n",
              "        const buttonEl =\n",
              "          document.querySelector('#df-2363492e-a96f-47f6-9050-71766b61f62e button.colab-df-convert');\n",
              "        buttonEl.style.display =\n",
              "          google.colab.kernel.accessAllowed ? 'block' : 'none';\n",
              "\n",
              "        async function convertToInteractive(key) {\n",
              "          const element = document.querySelector('#df-2363492e-a96f-47f6-9050-71766b61f62e');\n",
              "          const dataTable =\n",
              "            await google.colab.kernel.invokeFunction('convertToInteractive',\n",
              "                                                     [key], {});\n",
              "          if (!dataTable) return;\n",
              "\n",
              "          const docLinkHtml = 'Like what you see? Visit the ' +\n",
              "            '<a target=\"_blank\" href=https://colab.research.google.com/notebooks/data_table.ipynb>data table notebook</a>'\n",
              "            + ' to learn more about interactive tables.';\n",
              "          element.innerHTML = '';\n",
              "          dataTable['output_type'] = 'display_data';\n",
              "          await google.colab.output.renderOutput(dataTable, element);\n",
              "          const docLink = document.createElement('div');\n",
              "          docLink.innerHTML = docLinkHtml;\n",
              "          element.appendChild(docLink);\n",
              "        }\n",
              "      </script>\n",
              "    </div>\n",
              "  </div>\n",
              "  "
            ]
          },
          "metadata": {},
          "execution_count": 129
        }
      ]
    },
    {
      "cell_type": "code",
      "source": [
        "test=test.sample(n=len(test))\n",
        "test.reset_index(inplace=True,drop=True)\n",
        "test.head()"
      ],
      "metadata": {
        "execution": {
          "iopub.status.busy": "2023-04-30T19:53:08.452429Z",
          "iopub.execute_input": "2023-04-30T19:53:08.452851Z",
          "iopub.status.idle": "2023-04-30T19:53:08.470796Z",
          "shell.execute_reply.started": "2023-04-30T19:53:08.452800Z",
          "shell.execute_reply": "2023-04-30T19:53:08.469155Z"
        },
        "trusted": true,
        "colab": {
          "base_uri": "https://localhost:8080/",
          "height": 206
        },
        "id": "Q6PnU1P93c5M",
        "outputId": "9704d70e-8b86-4bac-99f3-aa8880a54d5b"
      },
      "execution_count": 130,
      "outputs": [
        {
          "output_type": "execute_result",
          "data": {
            "text/plain": [
              "                                            filename             label\n",
              "0  /content/mango-leaf-disease-dataset/Cutting We...    Cutting Weevil\n",
              "1  /content/mango-leaf-disease-dataset/Anthracnos...       Anthracnose\n",
              "2  /content/mango-leaf-disease-dataset/Bacterial ...  Bacterial Canker\n",
              "3  /content/mango-leaf-disease-dataset/Die Back/2...          Die Back\n",
              "4  /content/mango-leaf-disease-dataset/Die Back/2...          Die Back"
            ],
            "text/html": [
              "\n",
              "  <div id=\"df-172f1efa-46ff-4cc6-8db5-722f607d6f0c\">\n",
              "    <div class=\"colab-df-container\">\n",
              "      <div>\n",
              "<style scoped>\n",
              "    .dataframe tbody tr th:only-of-type {\n",
              "        vertical-align: middle;\n",
              "    }\n",
              "\n",
              "    .dataframe tbody tr th {\n",
              "        vertical-align: top;\n",
              "    }\n",
              "\n",
              "    .dataframe thead th {\n",
              "        text-align: right;\n",
              "    }\n",
              "</style>\n",
              "<table border=\"1\" class=\"dataframe\">\n",
              "  <thead>\n",
              "    <tr style=\"text-align: right;\">\n",
              "      <th></th>\n",
              "      <th>filename</th>\n",
              "      <th>label</th>\n",
              "    </tr>\n",
              "  </thead>\n",
              "  <tbody>\n",
              "    <tr>\n",
              "      <th>0</th>\n",
              "      <td>/content/mango-leaf-disease-dataset/Cutting We...</td>\n",
              "      <td>Cutting Weevil</td>\n",
              "    </tr>\n",
              "    <tr>\n",
              "      <th>1</th>\n",
              "      <td>/content/mango-leaf-disease-dataset/Anthracnos...</td>\n",
              "      <td>Anthracnose</td>\n",
              "    </tr>\n",
              "    <tr>\n",
              "      <th>2</th>\n",
              "      <td>/content/mango-leaf-disease-dataset/Bacterial ...</td>\n",
              "      <td>Bacterial Canker</td>\n",
              "    </tr>\n",
              "    <tr>\n",
              "      <th>3</th>\n",
              "      <td>/content/mango-leaf-disease-dataset/Die Back/2...</td>\n",
              "      <td>Die Back</td>\n",
              "    </tr>\n",
              "    <tr>\n",
              "      <th>4</th>\n",
              "      <td>/content/mango-leaf-disease-dataset/Die Back/2...</td>\n",
              "      <td>Die Back</td>\n",
              "    </tr>\n",
              "  </tbody>\n",
              "</table>\n",
              "</div>\n",
              "      <button class=\"colab-df-convert\" onclick=\"convertToInteractive('df-172f1efa-46ff-4cc6-8db5-722f607d6f0c')\"\n",
              "              title=\"Convert this dataframe to an interactive table.\"\n",
              "              style=\"display:none;\">\n",
              "        \n",
              "  <svg xmlns=\"http://www.w3.org/2000/svg\" height=\"24px\"viewBox=\"0 0 24 24\"\n",
              "       width=\"24px\">\n",
              "    <path d=\"M0 0h24v24H0V0z\" fill=\"none\"/>\n",
              "    <path d=\"M18.56 5.44l.94 2.06.94-2.06 2.06-.94-2.06-.94-.94-2.06-.94 2.06-2.06.94zm-11 1L8.5 8.5l.94-2.06 2.06-.94-2.06-.94L8.5 2.5l-.94 2.06-2.06.94zm10 10l.94 2.06.94-2.06 2.06-.94-2.06-.94-.94-2.06-.94 2.06-2.06.94z\"/><path d=\"M17.41 7.96l-1.37-1.37c-.4-.4-.92-.59-1.43-.59-.52 0-1.04.2-1.43.59L10.3 9.45l-7.72 7.72c-.78.78-.78 2.05 0 2.83L4 21.41c.39.39.9.59 1.41.59.51 0 1.02-.2 1.41-.59l7.78-7.78 2.81-2.81c.8-.78.8-2.07 0-2.86zM5.41 20L4 18.59l7.72-7.72 1.47 1.35L5.41 20z\"/>\n",
              "  </svg>\n",
              "      </button>\n",
              "      \n",
              "  <style>\n",
              "    .colab-df-container {\n",
              "      display:flex;\n",
              "      flex-wrap:wrap;\n",
              "      gap: 12px;\n",
              "    }\n",
              "\n",
              "    .colab-df-convert {\n",
              "      background-color: #E8F0FE;\n",
              "      border: none;\n",
              "      border-radius: 50%;\n",
              "      cursor: pointer;\n",
              "      display: none;\n",
              "      fill: #1967D2;\n",
              "      height: 32px;\n",
              "      padding: 0 0 0 0;\n",
              "      width: 32px;\n",
              "    }\n",
              "\n",
              "    .colab-df-convert:hover {\n",
              "      background-color: #E2EBFA;\n",
              "      box-shadow: 0px 1px 2px rgba(60, 64, 67, 0.3), 0px 1px 3px 1px rgba(60, 64, 67, 0.15);\n",
              "      fill: #174EA6;\n",
              "    }\n",
              "\n",
              "    [theme=dark] .colab-df-convert {\n",
              "      background-color: #3B4455;\n",
              "      fill: #D2E3FC;\n",
              "    }\n",
              "\n",
              "    [theme=dark] .colab-df-convert:hover {\n",
              "      background-color: #434B5C;\n",
              "      box-shadow: 0px 1px 3px 1px rgba(0, 0, 0, 0.15);\n",
              "      filter: drop-shadow(0px 1px 2px rgba(0, 0, 0, 0.3));\n",
              "      fill: #FFFFFF;\n",
              "    }\n",
              "  </style>\n",
              "\n",
              "      <script>\n",
              "        const buttonEl =\n",
              "          document.querySelector('#df-172f1efa-46ff-4cc6-8db5-722f607d6f0c button.colab-df-convert');\n",
              "        buttonEl.style.display =\n",
              "          google.colab.kernel.accessAllowed ? 'block' : 'none';\n",
              "\n",
              "        async function convertToInteractive(key) {\n",
              "          const element = document.querySelector('#df-172f1efa-46ff-4cc6-8db5-722f607d6f0c');\n",
              "          const dataTable =\n",
              "            await google.colab.kernel.invokeFunction('convertToInteractive',\n",
              "                                                     [key], {});\n",
              "          if (!dataTable) return;\n",
              "\n",
              "          const docLinkHtml = 'Like what you see? Visit the ' +\n",
              "            '<a target=\"_blank\" href=https://colab.research.google.com/notebooks/data_table.ipynb>data table notebook</a>'\n",
              "            + ' to learn more about interactive tables.';\n",
              "          element.innerHTML = '';\n",
              "          dataTable['output_type'] = 'display_data';\n",
              "          await google.colab.output.renderOutput(dataTable, element);\n",
              "          const docLink = document.createElement('div');\n",
              "          docLink.innerHTML = docLinkHtml;\n",
              "          element.appendChild(docLink);\n",
              "        }\n",
              "      </script>\n",
              "    </div>\n",
              "  </div>\n",
              "  "
            ]
          },
          "metadata": {},
          "execution_count": 130
        }
      ]
    },
    {
      "cell_type": "code",
      "source": [
        "train=train[:int(len(train)*.8)]\n",
        "train.head()"
      ],
      "metadata": {
        "execution": {
          "iopub.status.busy": "2023-04-30T19:53:08.474040Z",
          "iopub.execute_input": "2023-04-30T19:53:08.474974Z",
          "iopub.status.idle": "2023-04-30T19:53:08.491615Z",
          "shell.execute_reply.started": "2023-04-30T19:53:08.474912Z",
          "shell.execute_reply": "2023-04-30T19:53:08.489666Z"
        },
        "trusted": true,
        "colab": {
          "base_uri": "https://localhost:8080/",
          "height": 206
        },
        "id": "pUaXBTxa3c5N",
        "outputId": "e90ea70a-f136-4c64-d366-12ef4faa6edc"
      },
      "execution_count": 131,
      "outputs": [
        {
          "output_type": "execute_result",
          "data": {
            "text/plain": [
              "                                            filename             label\n",
              "0  /content/mango-leaf-disease-dataset/Gall Midge...        Gall Midge\n",
              "1  /content/mango-leaf-disease-dataset/Anthracnos...       Anthracnose\n",
              "2  /content/mango-leaf-disease-dataset/Bacterial ...  Bacterial Canker\n",
              "3  /content/mango-leaf-disease-dataset/Sooty Moul...       Sooty Mould\n",
              "4  /content/mango-leaf-disease-dataset/Die Back/2...          Die Back"
            ],
            "text/html": [
              "\n",
              "  <div id=\"df-2290628e-59d5-477a-8a72-a6a4fa176432\">\n",
              "    <div class=\"colab-df-container\">\n",
              "      <div>\n",
              "<style scoped>\n",
              "    .dataframe tbody tr th:only-of-type {\n",
              "        vertical-align: middle;\n",
              "    }\n",
              "\n",
              "    .dataframe tbody tr th {\n",
              "        vertical-align: top;\n",
              "    }\n",
              "\n",
              "    .dataframe thead th {\n",
              "        text-align: right;\n",
              "    }\n",
              "</style>\n",
              "<table border=\"1\" class=\"dataframe\">\n",
              "  <thead>\n",
              "    <tr style=\"text-align: right;\">\n",
              "      <th></th>\n",
              "      <th>filename</th>\n",
              "      <th>label</th>\n",
              "    </tr>\n",
              "  </thead>\n",
              "  <tbody>\n",
              "    <tr>\n",
              "      <th>0</th>\n",
              "      <td>/content/mango-leaf-disease-dataset/Gall Midge...</td>\n",
              "      <td>Gall Midge</td>\n",
              "    </tr>\n",
              "    <tr>\n",
              "      <th>1</th>\n",
              "      <td>/content/mango-leaf-disease-dataset/Anthracnos...</td>\n",
              "      <td>Anthracnose</td>\n",
              "    </tr>\n",
              "    <tr>\n",
              "      <th>2</th>\n",
              "      <td>/content/mango-leaf-disease-dataset/Bacterial ...</td>\n",
              "      <td>Bacterial Canker</td>\n",
              "    </tr>\n",
              "    <tr>\n",
              "      <th>3</th>\n",
              "      <td>/content/mango-leaf-disease-dataset/Sooty Moul...</td>\n",
              "      <td>Sooty Mould</td>\n",
              "    </tr>\n",
              "    <tr>\n",
              "      <th>4</th>\n",
              "      <td>/content/mango-leaf-disease-dataset/Die Back/2...</td>\n",
              "      <td>Die Back</td>\n",
              "    </tr>\n",
              "  </tbody>\n",
              "</table>\n",
              "</div>\n",
              "      <button class=\"colab-df-convert\" onclick=\"convertToInteractive('df-2290628e-59d5-477a-8a72-a6a4fa176432')\"\n",
              "              title=\"Convert this dataframe to an interactive table.\"\n",
              "              style=\"display:none;\">\n",
              "        \n",
              "  <svg xmlns=\"http://www.w3.org/2000/svg\" height=\"24px\"viewBox=\"0 0 24 24\"\n",
              "       width=\"24px\">\n",
              "    <path d=\"M0 0h24v24H0V0z\" fill=\"none\"/>\n",
              "    <path d=\"M18.56 5.44l.94 2.06.94-2.06 2.06-.94-2.06-.94-.94-2.06-.94 2.06-2.06.94zm-11 1L8.5 8.5l.94-2.06 2.06-.94-2.06-.94L8.5 2.5l-.94 2.06-2.06.94zm10 10l.94 2.06.94-2.06 2.06-.94-2.06-.94-.94-2.06-.94 2.06-2.06.94z\"/><path d=\"M17.41 7.96l-1.37-1.37c-.4-.4-.92-.59-1.43-.59-.52 0-1.04.2-1.43.59L10.3 9.45l-7.72 7.72c-.78.78-.78 2.05 0 2.83L4 21.41c.39.39.9.59 1.41.59.51 0 1.02-.2 1.41-.59l7.78-7.78 2.81-2.81c.8-.78.8-2.07 0-2.86zM5.41 20L4 18.59l7.72-7.72 1.47 1.35L5.41 20z\"/>\n",
              "  </svg>\n",
              "      </button>\n",
              "      \n",
              "  <style>\n",
              "    .colab-df-container {\n",
              "      display:flex;\n",
              "      flex-wrap:wrap;\n",
              "      gap: 12px;\n",
              "    }\n",
              "\n",
              "    .colab-df-convert {\n",
              "      background-color: #E8F0FE;\n",
              "      border: none;\n",
              "      border-radius: 50%;\n",
              "      cursor: pointer;\n",
              "      display: none;\n",
              "      fill: #1967D2;\n",
              "      height: 32px;\n",
              "      padding: 0 0 0 0;\n",
              "      width: 32px;\n",
              "    }\n",
              "\n",
              "    .colab-df-convert:hover {\n",
              "      background-color: #E2EBFA;\n",
              "      box-shadow: 0px 1px 2px rgba(60, 64, 67, 0.3), 0px 1px 3px 1px rgba(60, 64, 67, 0.15);\n",
              "      fill: #174EA6;\n",
              "    }\n",
              "\n",
              "    [theme=dark] .colab-df-convert {\n",
              "      background-color: #3B4455;\n",
              "      fill: #D2E3FC;\n",
              "    }\n",
              "\n",
              "    [theme=dark] .colab-df-convert:hover {\n",
              "      background-color: #434B5C;\n",
              "      box-shadow: 0px 1px 3px 1px rgba(0, 0, 0, 0.15);\n",
              "      filter: drop-shadow(0px 1px 2px rgba(0, 0, 0, 0.3));\n",
              "      fill: #FFFFFF;\n",
              "    }\n",
              "  </style>\n",
              "\n",
              "      <script>\n",
              "        const buttonEl =\n",
              "          document.querySelector('#df-2290628e-59d5-477a-8a72-a6a4fa176432 button.colab-df-convert');\n",
              "        buttonEl.style.display =\n",
              "          google.colab.kernel.accessAllowed ? 'block' : 'none';\n",
              "\n",
              "        async function convertToInteractive(key) {\n",
              "          const element = document.querySelector('#df-2290628e-59d5-477a-8a72-a6a4fa176432');\n",
              "          const dataTable =\n",
              "            await google.colab.kernel.invokeFunction('convertToInteractive',\n",
              "                                                     [key], {});\n",
              "          if (!dataTable) return;\n",
              "\n",
              "          const docLinkHtml = 'Like what you see? Visit the ' +\n",
              "            '<a target=\"_blank\" href=https://colab.research.google.com/notebooks/data_table.ipynb>data table notebook</a>'\n",
              "            + ' to learn more about interactive tables.';\n",
              "          element.innerHTML = '';\n",
              "          dataTable['output_type'] = 'display_data';\n",
              "          await google.colab.output.renderOutput(dataTable, element);\n",
              "          const docLink = document.createElement('div');\n",
              "          docLink.innerHTML = docLinkHtml;\n",
              "          element.appendChild(docLink);\n",
              "        }\n",
              "      </script>\n",
              "    </div>\n",
              "  </div>\n",
              "  "
            ]
          },
          "metadata": {},
          "execution_count": 131
        }
      ]
    },
    {
      "cell_type": "code",
      "source": [
        "train=train.sample(n=len(train))\n",
        "train.reset_index(inplace=True,drop=True)\n",
        "train.head()"
      ],
      "metadata": {
        "execution": {
          "iopub.status.busy": "2023-04-30T19:53:08.493714Z",
          "iopub.execute_input": "2023-04-30T19:53:08.494147Z",
          "iopub.status.idle": "2023-04-30T19:53:08.513253Z",
          "shell.execute_reply.started": "2023-04-30T19:53:08.494081Z",
          "shell.execute_reply": "2023-04-30T19:53:08.511044Z"
        },
        "trusted": true,
        "colab": {
          "base_uri": "https://localhost:8080/",
          "height": 206
        },
        "id": "w5egwlEQ3c5O",
        "outputId": "5aeeb471-eae4-435a-8a36-a8b13283df66"
      },
      "execution_count": 132,
      "outputs": [
        {
          "output_type": "execute_result",
          "data": {
            "text/plain": [
              "                                            filename           label\n",
              "0  /content/mango-leaf-disease-dataset/Powdery Mi...  Powdery Mildew\n",
              "1  /content/mango-leaf-disease-dataset/Healthy/20...         Healthy\n",
              "2  /content/mango-leaf-disease-dataset/Gall Midge...      Gall Midge\n",
              "3  /content/mango-leaf-disease-dataset/Powdery Mi...  Powdery Mildew\n",
              "4  /content/mango-leaf-disease-dataset/Die Back/I...        Die Back"
            ],
            "text/html": [
              "\n",
              "  <div id=\"df-8381c1d4-5a91-433b-8c70-bc2d79151026\">\n",
              "    <div class=\"colab-df-container\">\n",
              "      <div>\n",
              "<style scoped>\n",
              "    .dataframe tbody tr th:only-of-type {\n",
              "        vertical-align: middle;\n",
              "    }\n",
              "\n",
              "    .dataframe tbody tr th {\n",
              "        vertical-align: top;\n",
              "    }\n",
              "\n",
              "    .dataframe thead th {\n",
              "        text-align: right;\n",
              "    }\n",
              "</style>\n",
              "<table border=\"1\" class=\"dataframe\">\n",
              "  <thead>\n",
              "    <tr style=\"text-align: right;\">\n",
              "      <th></th>\n",
              "      <th>filename</th>\n",
              "      <th>label</th>\n",
              "    </tr>\n",
              "  </thead>\n",
              "  <tbody>\n",
              "    <tr>\n",
              "      <th>0</th>\n",
              "      <td>/content/mango-leaf-disease-dataset/Powdery Mi...</td>\n",
              "      <td>Powdery Mildew</td>\n",
              "    </tr>\n",
              "    <tr>\n",
              "      <th>1</th>\n",
              "      <td>/content/mango-leaf-disease-dataset/Healthy/20...</td>\n",
              "      <td>Healthy</td>\n",
              "    </tr>\n",
              "    <tr>\n",
              "      <th>2</th>\n",
              "      <td>/content/mango-leaf-disease-dataset/Gall Midge...</td>\n",
              "      <td>Gall Midge</td>\n",
              "    </tr>\n",
              "    <tr>\n",
              "      <th>3</th>\n",
              "      <td>/content/mango-leaf-disease-dataset/Powdery Mi...</td>\n",
              "      <td>Powdery Mildew</td>\n",
              "    </tr>\n",
              "    <tr>\n",
              "      <th>4</th>\n",
              "      <td>/content/mango-leaf-disease-dataset/Die Back/I...</td>\n",
              "      <td>Die Back</td>\n",
              "    </tr>\n",
              "  </tbody>\n",
              "</table>\n",
              "</div>\n",
              "      <button class=\"colab-df-convert\" onclick=\"convertToInteractive('df-8381c1d4-5a91-433b-8c70-bc2d79151026')\"\n",
              "              title=\"Convert this dataframe to an interactive table.\"\n",
              "              style=\"display:none;\">\n",
              "        \n",
              "  <svg xmlns=\"http://www.w3.org/2000/svg\" height=\"24px\"viewBox=\"0 0 24 24\"\n",
              "       width=\"24px\">\n",
              "    <path d=\"M0 0h24v24H0V0z\" fill=\"none\"/>\n",
              "    <path d=\"M18.56 5.44l.94 2.06.94-2.06 2.06-.94-2.06-.94-.94-2.06-.94 2.06-2.06.94zm-11 1L8.5 8.5l.94-2.06 2.06-.94-2.06-.94L8.5 2.5l-.94 2.06-2.06.94zm10 10l.94 2.06.94-2.06 2.06-.94-2.06-.94-.94-2.06-.94 2.06-2.06.94z\"/><path d=\"M17.41 7.96l-1.37-1.37c-.4-.4-.92-.59-1.43-.59-.52 0-1.04.2-1.43.59L10.3 9.45l-7.72 7.72c-.78.78-.78 2.05 0 2.83L4 21.41c.39.39.9.59 1.41.59.51 0 1.02-.2 1.41-.59l7.78-7.78 2.81-2.81c.8-.78.8-2.07 0-2.86zM5.41 20L4 18.59l7.72-7.72 1.47 1.35L5.41 20z\"/>\n",
              "  </svg>\n",
              "      </button>\n",
              "      \n",
              "  <style>\n",
              "    .colab-df-container {\n",
              "      display:flex;\n",
              "      flex-wrap:wrap;\n",
              "      gap: 12px;\n",
              "    }\n",
              "\n",
              "    .colab-df-convert {\n",
              "      background-color: #E8F0FE;\n",
              "      border: none;\n",
              "      border-radius: 50%;\n",
              "      cursor: pointer;\n",
              "      display: none;\n",
              "      fill: #1967D2;\n",
              "      height: 32px;\n",
              "      padding: 0 0 0 0;\n",
              "      width: 32px;\n",
              "    }\n",
              "\n",
              "    .colab-df-convert:hover {\n",
              "      background-color: #E2EBFA;\n",
              "      box-shadow: 0px 1px 2px rgba(60, 64, 67, 0.3), 0px 1px 3px 1px rgba(60, 64, 67, 0.15);\n",
              "      fill: #174EA6;\n",
              "    }\n",
              "\n",
              "    [theme=dark] .colab-df-convert {\n",
              "      background-color: #3B4455;\n",
              "      fill: #D2E3FC;\n",
              "    }\n",
              "\n",
              "    [theme=dark] .colab-df-convert:hover {\n",
              "      background-color: #434B5C;\n",
              "      box-shadow: 0px 1px 3px 1px rgba(0, 0, 0, 0.15);\n",
              "      filter: drop-shadow(0px 1px 2px rgba(0, 0, 0, 0.3));\n",
              "      fill: #FFFFFF;\n",
              "    }\n",
              "  </style>\n",
              "\n",
              "      <script>\n",
              "        const buttonEl =\n",
              "          document.querySelector('#df-8381c1d4-5a91-433b-8c70-bc2d79151026 button.colab-df-convert');\n",
              "        buttonEl.style.display =\n",
              "          google.colab.kernel.accessAllowed ? 'block' : 'none';\n",
              "\n",
              "        async function convertToInteractive(key) {\n",
              "          const element = document.querySelector('#df-8381c1d4-5a91-433b-8c70-bc2d79151026');\n",
              "          const dataTable =\n",
              "            await google.colab.kernel.invokeFunction('convertToInteractive',\n",
              "                                                     [key], {});\n",
              "          if (!dataTable) return;\n",
              "\n",
              "          const docLinkHtml = 'Like what you see? Visit the ' +\n",
              "            '<a target=\"_blank\" href=https://colab.research.google.com/notebooks/data_table.ipynb>data table notebook</a>'\n",
              "            + ' to learn more about interactive tables.';\n",
              "          element.innerHTML = '';\n",
              "          dataTable['output_type'] = 'display_data';\n",
              "          await google.colab.output.renderOutput(dataTable, element);\n",
              "          const docLink = document.createElement('div');\n",
              "          docLink.innerHTML = docLinkHtml;\n",
              "          element.appendChild(docLink);\n",
              "        }\n",
              "      </script>\n",
              "    </div>\n",
              "  </div>\n",
              "  "
            ]
          },
          "metadata": {},
          "execution_count": 132
        }
      ]
    },
    {
      "cell_type": "code",
      "source": [
        "train.shape,test.shape"
      ],
      "metadata": {
        "execution": {
          "iopub.status.busy": "2023-04-30T19:53:08.516956Z",
          "iopub.execute_input": "2023-04-30T19:53:08.518073Z",
          "iopub.status.idle": "2023-04-30T19:53:08.527684Z",
          "shell.execute_reply.started": "2023-04-30T19:53:08.518013Z",
          "shell.execute_reply": "2023-04-30T19:53:08.525498Z"
        },
        "trusted": true,
        "colab": {
          "base_uri": "https://localhost:8080/"
        },
        "id": "pT9jwIVw3c5O",
        "outputId": "5017817e-a53d-451f-cbc6-df05331c834a"
      },
      "execution_count": 133,
      "outputs": [
        {
          "output_type": "execute_result",
          "data": {
            "text/plain": [
              "((3200, 2), (800, 2))"
            ]
          },
          "metadata": {},
          "execution_count": 133
        }
      ]
    },
    {
      "cell_type": "code",
      "source": [
        "labels = train.sort_values('label')\n",
        "labels.head()"
      ],
      "metadata": {
        "execution": {
          "iopub.status.busy": "2023-04-30T19:53:08.529757Z",
          "iopub.execute_input": "2023-04-30T19:53:08.530315Z",
          "iopub.status.idle": "2023-04-30T19:53:08.549875Z",
          "shell.execute_reply.started": "2023-04-30T19:53:08.530261Z",
          "shell.execute_reply": "2023-04-30T19:53:08.548349Z"
        },
        "trusted": true,
        "colab": {
          "base_uri": "https://localhost:8080/",
          "height": 206
        },
        "id": "5TGJ96so3c5P",
        "outputId": "239f2dbc-906e-4128-b914-1f15965ad665"
      },
      "execution_count": 134,
      "outputs": [
        {
          "output_type": "execute_result",
          "data": {
            "text/plain": [
              "                                               filename        label\n",
              "2848  /content/mango-leaf-disease-dataset/Anthracnos...  Anthracnose\n",
              "284   /content/mango-leaf-disease-dataset/Anthracnos...  Anthracnose\n",
              "1629  /content/mango-leaf-disease-dataset/Anthracnos...  Anthracnose\n",
              "2751  /content/mango-leaf-disease-dataset/Anthracnos...  Anthracnose\n",
              "1821  /content/mango-leaf-disease-dataset/Anthracnos...  Anthracnose"
            ],
            "text/html": [
              "\n",
              "  <div id=\"df-00705e8f-7760-4b33-836b-f593576e786b\">\n",
              "    <div class=\"colab-df-container\">\n",
              "      <div>\n",
              "<style scoped>\n",
              "    .dataframe tbody tr th:only-of-type {\n",
              "        vertical-align: middle;\n",
              "    }\n",
              "\n",
              "    .dataframe tbody tr th {\n",
              "        vertical-align: top;\n",
              "    }\n",
              "\n",
              "    .dataframe thead th {\n",
              "        text-align: right;\n",
              "    }\n",
              "</style>\n",
              "<table border=\"1\" class=\"dataframe\">\n",
              "  <thead>\n",
              "    <tr style=\"text-align: right;\">\n",
              "      <th></th>\n",
              "      <th>filename</th>\n",
              "      <th>label</th>\n",
              "    </tr>\n",
              "  </thead>\n",
              "  <tbody>\n",
              "    <tr>\n",
              "      <th>2848</th>\n",
              "      <td>/content/mango-leaf-disease-dataset/Anthracnos...</td>\n",
              "      <td>Anthracnose</td>\n",
              "    </tr>\n",
              "    <tr>\n",
              "      <th>284</th>\n",
              "      <td>/content/mango-leaf-disease-dataset/Anthracnos...</td>\n",
              "      <td>Anthracnose</td>\n",
              "    </tr>\n",
              "    <tr>\n",
              "      <th>1629</th>\n",
              "      <td>/content/mango-leaf-disease-dataset/Anthracnos...</td>\n",
              "      <td>Anthracnose</td>\n",
              "    </tr>\n",
              "    <tr>\n",
              "      <th>2751</th>\n",
              "      <td>/content/mango-leaf-disease-dataset/Anthracnos...</td>\n",
              "      <td>Anthracnose</td>\n",
              "    </tr>\n",
              "    <tr>\n",
              "      <th>1821</th>\n",
              "      <td>/content/mango-leaf-disease-dataset/Anthracnos...</td>\n",
              "      <td>Anthracnose</td>\n",
              "    </tr>\n",
              "  </tbody>\n",
              "</table>\n",
              "</div>\n",
              "      <button class=\"colab-df-convert\" onclick=\"convertToInteractive('df-00705e8f-7760-4b33-836b-f593576e786b')\"\n",
              "              title=\"Convert this dataframe to an interactive table.\"\n",
              "              style=\"display:none;\">\n",
              "        \n",
              "  <svg xmlns=\"http://www.w3.org/2000/svg\" height=\"24px\"viewBox=\"0 0 24 24\"\n",
              "       width=\"24px\">\n",
              "    <path d=\"M0 0h24v24H0V0z\" fill=\"none\"/>\n",
              "    <path d=\"M18.56 5.44l.94 2.06.94-2.06 2.06-.94-2.06-.94-.94-2.06-.94 2.06-2.06.94zm-11 1L8.5 8.5l.94-2.06 2.06-.94-2.06-.94L8.5 2.5l-.94 2.06-2.06.94zm10 10l.94 2.06.94-2.06 2.06-.94-2.06-.94-.94-2.06-.94 2.06-2.06.94z\"/><path d=\"M17.41 7.96l-1.37-1.37c-.4-.4-.92-.59-1.43-.59-.52 0-1.04.2-1.43.59L10.3 9.45l-7.72 7.72c-.78.78-.78 2.05 0 2.83L4 21.41c.39.39.9.59 1.41.59.51 0 1.02-.2 1.41-.59l7.78-7.78 2.81-2.81c.8-.78.8-2.07 0-2.86zM5.41 20L4 18.59l7.72-7.72 1.47 1.35L5.41 20z\"/>\n",
              "  </svg>\n",
              "      </button>\n",
              "      \n",
              "  <style>\n",
              "    .colab-df-container {\n",
              "      display:flex;\n",
              "      flex-wrap:wrap;\n",
              "      gap: 12px;\n",
              "    }\n",
              "\n",
              "    .colab-df-convert {\n",
              "      background-color: #E8F0FE;\n",
              "      border: none;\n",
              "      border-radius: 50%;\n",
              "      cursor: pointer;\n",
              "      display: none;\n",
              "      fill: #1967D2;\n",
              "      height: 32px;\n",
              "      padding: 0 0 0 0;\n",
              "      width: 32px;\n",
              "    }\n",
              "\n",
              "    .colab-df-convert:hover {\n",
              "      background-color: #E2EBFA;\n",
              "      box-shadow: 0px 1px 2px rgba(60, 64, 67, 0.3), 0px 1px 3px 1px rgba(60, 64, 67, 0.15);\n",
              "      fill: #174EA6;\n",
              "    }\n",
              "\n",
              "    [theme=dark] .colab-df-convert {\n",
              "      background-color: #3B4455;\n",
              "      fill: #D2E3FC;\n",
              "    }\n",
              "\n",
              "    [theme=dark] .colab-df-convert:hover {\n",
              "      background-color: #434B5C;\n",
              "      box-shadow: 0px 1px 3px 1px rgba(0, 0, 0, 0.15);\n",
              "      filter: drop-shadow(0px 1px 2px rgba(0, 0, 0, 0.3));\n",
              "      fill: #FFFFFF;\n",
              "    }\n",
              "  </style>\n",
              "\n",
              "      <script>\n",
              "        const buttonEl =\n",
              "          document.querySelector('#df-00705e8f-7760-4b33-836b-f593576e786b button.colab-df-convert');\n",
              "        buttonEl.style.display =\n",
              "          google.colab.kernel.accessAllowed ? 'block' : 'none';\n",
              "\n",
              "        async function convertToInteractive(key) {\n",
              "          const element = document.querySelector('#df-00705e8f-7760-4b33-836b-f593576e786b');\n",
              "          const dataTable =\n",
              "            await google.colab.kernel.invokeFunction('convertToInteractive',\n",
              "                                                     [key], {});\n",
              "          if (!dataTable) return;\n",
              "\n",
              "          const docLinkHtml = 'Like what you see? Visit the ' +\n",
              "            '<a target=\"_blank\" href=https://colab.research.google.com/notebooks/data_table.ipynb>data table notebook</a>'\n",
              "            + ' to learn more about interactive tables.';\n",
              "          element.innerHTML = '';\n",
              "          dataTable['output_type'] = 'display_data';\n",
              "          await google.colab.output.renderOutput(dataTable, element);\n",
              "          const docLink = document.createElement('div');\n",
              "          docLink.innerHTML = docLinkHtml;\n",
              "          element.appendChild(docLink);\n",
              "        }\n",
              "      </script>\n",
              "    </div>\n",
              "  </div>\n",
              "  "
            ]
          },
          "metadata": {},
          "execution_count": 134
        }
      ]
    },
    {
      "cell_type": "code",
      "source": [
        "# take unique labels\n",
        "class_names = list(labels.label.unique())\n",
        "class_names[:8]"
      ],
      "metadata": {
        "execution": {
          "iopub.status.busy": "2023-04-30T19:53:08.552268Z",
          "iopub.execute_input": "2023-04-30T19:53:08.552792Z",
          "iopub.status.idle": "2023-04-30T19:53:08.564578Z",
          "shell.execute_reply.started": "2023-04-30T19:53:08.552737Z",
          "shell.execute_reply": "2023-04-30T19:53:08.563228Z"
        },
        "trusted": true,
        "colab": {
          "base_uri": "https://localhost:8080/"
        },
        "id": "GYmMvT4C3c5P",
        "outputId": "a597f1a1-ff78-4576-84dd-137f56b3112d"
      },
      "execution_count": 135,
      "outputs": [
        {
          "output_type": "execute_result",
          "data": {
            "text/plain": [
              "['Anthracnose',\n",
              " 'Bacterial Canker',\n",
              " 'Cutting Weevil',\n",
              " 'Die Back',\n",
              " 'Gall Midge',\n",
              " 'Healthy',\n",
              " 'Powdery Mildew',\n",
              " 'Sooty Mould']"
            ]
          },
          "metadata": {},
          "execution_count": 135
        }
      ]
    },
    {
      "cell_type": "code",
      "source": [
        "newpath = r'./train' \n",
        "if not os.path.exists(newpath):\n",
        "    os.makedirs(newpath)"
      ],
      "metadata": {
        "execution": {
          "iopub.status.busy": "2023-04-30T19:53:08.568206Z",
          "iopub.execute_input": "2023-04-30T19:53:08.569757Z",
          "iopub.status.idle": "2023-04-30T19:53:08.576788Z",
          "shell.execute_reply.started": "2023-04-30T19:53:08.569688Z",
          "shell.execute_reply": "2023-04-30T19:53:08.575429Z"
        },
        "trusted": true,
        "id": "m97CS0Le3c5Q"
      },
      "execution_count": 136,
      "outputs": []
    },
    {
      "cell_type": "code",
      "source": [
        "\n",
        "\n",
        "#creating subfolders\n",
        "for c in class_names:\n",
        "    dest =  r'./train/'+str(c)\n",
        "    if not os.path.exists(dest):\n",
        "        os.makedirs(dest)\n",
        "    for i in list(labels[labels['label']==c]['filename']): # Image Id\n",
        "        get_image = os.path.join('/content/mango-leaf-disease-dataset', i) # Path to Images \n",
        "        move_image_to_cat = shutil.copy(get_image, dest)"
      ],
      "metadata": {
        "execution": {
          "iopub.status.busy": "2023-04-30T19:53:08.578514Z",
          "iopub.execute_input": "2023-04-30T19:53:08.580213Z",
          "iopub.status.idle": "2023-04-30T19:53:16.137755Z",
          "shell.execute_reply.started": "2023-04-30T19:53:08.580141Z",
          "shell.execute_reply": "2023-04-30T19:53:16.135914Z"
        },
        "trusted": true,
        "id": "DNcK4tv93c5Q"
      },
      "execution_count": 137,
      "outputs": []
    },
    {
      "cell_type": "code",
      "source": [
        "newpath = r'./test' \n",
        "if not os.path.exists(newpath):\n",
        "    os.makedirs(newpath)"
      ],
      "metadata": {
        "execution": {
          "iopub.status.busy": "2023-04-30T19:53:16.140375Z",
          "iopub.execute_input": "2023-04-30T19:53:16.140835Z",
          "iopub.status.idle": "2023-04-30T19:53:16.148364Z",
          "shell.execute_reply.started": "2023-04-30T19:53:16.140794Z",
          "shell.execute_reply": "2023-04-30T19:53:16.146645Z"
        },
        "trusted": true,
        "id": "VUeQO1WF3c5R"
      },
      "execution_count": 138,
      "outputs": []
    },
    {
      "cell_type": "code",
      "source": [
        "for c in class_names:\n",
        "    dest =  r'./test/'+str(c)\n",
        "    os.makedirs(dest, exist_ok=True)\n",
        "    for i in list(test[test['label']==c]['filename']):\n",
        "        get_image = os.path.join('/kaggle/input/mango-leaf-disease-dataset', i)\n",
        "        move_image_to_cat = shutil.copy(get_image, dest)\n"
      ],
      "metadata": {
        "execution": {
          "iopub.status.busy": "2023-04-30T19:53:16.151708Z",
          "iopub.execute_input": "2023-04-30T19:53:16.152349Z",
          "iopub.status.idle": "2023-04-30T19:53:17.928652Z",
          "shell.execute_reply.started": "2023-04-30T19:53:16.152292Z",
          "shell.execute_reply": "2023-04-30T19:53:17.927207Z"
        },
        "trusted": true,
        "id": "Oq-FAFW33c5R"
      },
      "execution_count": 139,
      "outputs": []
    },
    {
      "cell_type": "code",
      "source": [
        "train.to_csv('./train.csv',index=False)\n",
        "test.to_csv('./test.csv',index=False)"
      ],
      "metadata": {
        "execution": {
          "iopub.status.busy": "2023-04-30T19:53:17.932290Z",
          "iopub.execute_input": "2023-04-30T19:53:17.933004Z",
          "iopub.status.idle": "2023-04-30T19:53:17.956563Z",
          "shell.execute_reply.started": "2023-04-30T19:53:17.932958Z",
          "shell.execute_reply": "2023-04-30T19:53:17.955250Z"
        },
        "trusted": true,
        "id": "e2MA6LeG3c5S"
      },
      "execution_count": 140,
      "outputs": []
    },
    {
      "cell_type": "code",
      "source": [
        "\n",
        "# Split the data into features and labels\n",
        "X_train = train['filename']\n",
        "y_train = train['label']\n"
      ],
      "metadata": {
        "execution": {
          "iopub.status.busy": "2023-04-30T19:53:17.958263Z",
          "iopub.execute_input": "2023-04-30T19:53:17.959036Z",
          "iopub.status.idle": "2023-04-30T19:53:17.967374Z",
          "shell.execute_reply.started": "2023-04-30T19:53:17.958824Z",
          "shell.execute_reply": "2023-04-30T19:53:17.965646Z"
        },
        "trusted": true,
        "id": "bLae0_423c5S"
      },
      "execution_count": 141,
      "outputs": []
    },
    {
      "cell_type": "markdown",
      "source": [
        "CONVOLUTION NUERAL NETWORK"
      ],
      "metadata": {
        "id": "8hEmKWqS9mhe"
      }
    },
    {
      "cell_type": "code",
      "source": [
        "\n",
        "import numpy as np\n",
        "from tensorflow.keras.preprocessing.image import load_img, img_to_array\n",
        "from sklearn.model_selection import train_test_split\n",
        "\n",
        "# read images from file paths and convert them into numpy arrays\n",
        "IMAGE_SIZE = 224\n",
        "CHANNELS=3\n",
        "\n",
        "X = np.zeros((len(train), IMAGE_SIZE, IMAGE_SIZE, CHANNELS), dtype=np.uint8)\n",
        "for i, filepath in enumerate(train['filename']):\n",
        "    img = load_img(filepath, target_size=(IMAGE_SIZE, IMAGE_SIZE))\n",
        "    X[i] = img_to_array(img)\n",
        "\n",
        "# extract labels\n",
        "y = train['label'].values\n",
        "\n",
        "# split data into training and testing sets\n",
        "X_train, X_val, y_train, y_val = train_test_split(X, y, test_size=0.2, random_state=42)"
      ],
      "metadata": {
        "execution": {
          "iopub.status.busy": "2023-04-30T19:53:17.969364Z",
          "iopub.execute_input": "2023-04-30T19:53:17.970086Z",
          "iopub.status.idle": "2023-04-30T19:53:29.607993Z",
          "shell.execute_reply.started": "2023-04-30T19:53:17.970040Z",
          "shell.execute_reply": "2023-04-30T19:53:29.606775Z"
        },
        "trusted": true,
        "id": "U4Y5h7Gq3c5T"
      },
      "execution_count": 142,
      "outputs": []
    },
    {
      "cell_type": "code",
      "source": [
        "\n",
        "# read test images and convert them into numpy arrays\n",
        "X_test = np.zeros((len(test), IMAGE_SIZE, IMAGE_SIZE, CHANNELS), dtype=np.uint8)\n",
        "for i, filepath in enumerate(test['filename']):\n",
        "    img = load_img(filepath, target_size=(IMAGE_SIZE, IMAGE_SIZE))\n",
        "    X_test[i] = img_to_array(img)\n",
        "\n",
        "# extract test labels\n",
        "y_test = test['label'].values\n"
      ],
      "metadata": {
        "execution": {
          "iopub.status.busy": "2023-04-30T19:53:29.610298Z",
          "iopub.execute_input": "2023-04-30T19:53:29.612989Z",
          "iopub.status.idle": "2023-04-30T19:53:32.391809Z",
          "shell.execute_reply.started": "2023-04-30T19:53:29.612938Z",
          "shell.execute_reply": "2023-04-30T19:53:32.390657Z"
        },
        "trusted": true,
        "id": "L6MAAS9z3c5T"
      },
      "execution_count": 143,
      "outputs": []
    },
    {
      "cell_type": "code",
      "source": [
        "from tensorflow.keras.utils import to_categorical\n",
        "from sklearn.preprocessing import LabelEncoder\n",
        "NUM_CLASSES=8\n",
        "le = LabelEncoder()\n",
        "y_train = le.fit_transform(y_train)\n",
        "y_val = le.transform(y_val)\n",
        "y_test = le.transform(y_test)\n",
        "\n",
        "y_train = to_categorical(y_train, num_classes=NUM_CLASSES)\n",
        "y_val = to_categorical(y_val, num_classes=NUM_CLASSES)\n",
        "y_test = to_categorical(y_test, num_classes=NUM_CLASSES)"
      ],
      "metadata": {
        "execution": {
          "iopub.status.busy": "2023-04-30T19:53:32.396294Z",
          "iopub.execute_input": "2023-04-30T19:53:32.397139Z",
          "iopub.status.idle": "2023-04-30T19:53:32.407167Z",
          "shell.execute_reply.started": "2023-04-30T19:53:32.397065Z",
          "shell.execute_reply": "2023-04-30T19:53:32.405612Z"
        },
        "trusted": true,
        "id": "xNAoo4fw3c5T"
      },
      "execution_count": 144,
      "outputs": []
    },
    {
      "cell_type": "code",
      "source": [
        "\n",
        "#Different Layers in Convolution Nueral Network\n",
        "model = Sequential([\n",
        "    Conv2D(32, (3, 3), activation='relu', input_shape=(IMAGE_SIZE, IMAGE_SIZE, CHANNELS)),\n",
        "    MaxPooling2D((2, 2)),\n",
        "    Conv2D(64, (3, 3), activation='relu'),\n",
        "    MaxPooling2D((2, 2)),\n",
        "    Conv2D(128, (3, 3), activation='relu'),\n",
        "    MaxPooling2D((2, 2)),\n",
        "    Conv2D(256, (3, 3), activation='relu'),\n",
        "    MaxPooling2D((2, 2)),\n",
        "    Conv2D(512, (3, 3), activation='relu'),\n",
        "    MaxPooling2D((2, 2)),\n",
        "    Flatten(),\n",
        "    Dropout(0.2),\n",
        "    Dense(256, activation='relu'),\n",
        "    Dropout(0.3),\n",
        "    Dense(128, activation='relu'),\n",
        "    Dropout(0.3),\n",
        "    Dense(NUM_CLASSES, activation='softmax')\n",
        "])\n",
        "\n"
      ],
      "metadata": {
        "id": "lYRanET1bf3c"
      },
      "execution_count": 146,
      "outputs": []
    },
    {
      "cell_type": "code",
      "source": [
        "model.summary()\n"
      ],
      "metadata": {
        "colab": {
          "base_uri": "https://localhost:8080/"
        },
        "id": "nYydwHW_jRUb",
        "outputId": "fb198fe4-e92d-421b-99e9-295c0f76646a"
      },
      "execution_count": 147,
      "outputs": [
        {
          "output_type": "stream",
          "name": "stdout",
          "text": [
            "Model: \"sequential_6\"\n",
            "_________________________________________________________________\n",
            " Layer (type)                Output Shape              Param #   \n",
            "=================================================================\n",
            " conv2d_30 (Conv2D)          (None, 222, 222, 32)      896       \n",
            "                                                                 \n",
            " max_pooling2d_30 (MaxPoolin  (None, 111, 111, 32)     0         \n",
            " g2D)                                                            \n",
            "                                                                 \n",
            " conv2d_31 (Conv2D)          (None, 109, 109, 64)      18496     \n",
            "                                                                 \n",
            " max_pooling2d_31 (MaxPoolin  (None, 54, 54, 64)       0         \n",
            " g2D)                                                            \n",
            "                                                                 \n",
            " conv2d_32 (Conv2D)          (None, 52, 52, 128)       73856     \n",
            "                                                                 \n",
            " max_pooling2d_32 (MaxPoolin  (None, 26, 26, 128)      0         \n",
            " g2D)                                                            \n",
            "                                                                 \n",
            " conv2d_33 (Conv2D)          (None, 24, 24, 256)       295168    \n",
            "                                                                 \n",
            " max_pooling2d_33 (MaxPoolin  (None, 12, 12, 256)      0         \n",
            " g2D)                                                            \n",
            "                                                                 \n",
            " conv2d_34 (Conv2D)          (None, 10, 10, 512)       1180160   \n",
            "                                                                 \n",
            " max_pooling2d_34 (MaxPoolin  (None, 5, 5, 512)        0         \n",
            " g2D)                                                            \n",
            "                                                                 \n",
            " flatten_6 (Flatten)         (None, 12800)             0         \n",
            "                                                                 \n",
            " dropout_18 (Dropout)        (None, 12800)             0         \n",
            "                                                                 \n",
            " dense_18 (Dense)            (None, 256)               3277056   \n",
            "                                                                 \n",
            " dropout_19 (Dropout)        (None, 256)               0         \n",
            "                                                                 \n",
            " dense_19 (Dense)            (None, 128)               32896     \n",
            "                                                                 \n",
            " dropout_20 (Dropout)        (None, 128)               0         \n",
            "                                                                 \n",
            " dense_20 (Dense)            (None, 8)                 1032      \n",
            "                                                                 \n",
            "=================================================================\n",
            "Total params: 4,879,560\n",
            "Trainable params: 4,879,560\n",
            "Non-trainable params: 0\n",
            "_________________________________________________________________\n"
          ]
        }
      ]
    },
    {
      "cell_type": "code",
      "source": [
        "\n",
        "from tensorflow.keras.optimizers import SGD\n",
        "from tensorflow.keras.losses import MeanSquaredError\n",
        "\n",
        "# Define the optimizer with a learning rate of 0.001 and momentum of 0.9\n",
        "optimizer = SGD(learning_rate=0.001, momentum=0.9)\n",
        "\n",
        "# Define the loss function as mean absolute error\n",
        "loss = MeanSquaredError()\n",
        "\n",
        "# Compile the model with the new optimizer and loss function\n",
        "model.compile(optimizer=optimizer,\n",
        "              loss=loss,\n",
        "              metrics=['accuracy'])\n"
      ],
      "metadata": {
        "id": "wu2ttY1wh1n0"
      },
      "execution_count": 148,
      "outputs": []
    },
    {
      "cell_type": "code",
      "source": [
        "# Training the model \n",
        "history = model.fit(X_train, y_train, epochs=5, validation_data=(X_val, y_val))"
      ],
      "metadata": {
        "colab": {
          "base_uri": "https://localhost:8080/"
        },
        "id": "0JAVCZuYja8Y",
        "outputId": "412ef7d7-7f76-4bcf-b4df-add60db1b9bb"
      },
      "execution_count": 149,
      "outputs": [
        {
          "output_type": "stream",
          "name": "stdout",
          "text": [
            "Epoch 1/5\n",
            "80/80 [==============================] - 405s 5s/step - loss: 0.2189 - accuracy: 0.1203 - val_loss: 0.2199 - val_accuracy: 0.1203\n",
            "Epoch 2/5\n",
            "80/80 [==============================] - 407s 5s/step - loss: 0.2198 - accuracy: 0.1207 - val_loss: 0.2199 - val_accuracy: 0.1203\n",
            "Epoch 3/5\n",
            "80/80 [==============================] - 407s 5s/step - loss: 0.2198 - accuracy: 0.1207 - val_loss: 0.2199 - val_accuracy: 0.1203\n",
            "Epoch 4/5\n",
            "80/80 [==============================] - 403s 5s/step - loss: 0.2198 - accuracy: 0.1207 - val_loss: 0.2199 - val_accuracy: 0.1203\n",
            "Epoch 5/5\n",
            "80/80 [==============================] - 403s 5s/step - loss: 0.2198 - accuracy: 0.1207 - val_loss: 0.2199 - val_accuracy: 0.1203\n"
          ]
        }
      ]
    },
    {
      "cell_type": "markdown",
      "source": [
        "NAIVE BAYES CLASSIFIER"
      ],
      "metadata": {
        "id": "hv6sA8XjsyCX"
      }
    },
    {
      "cell_type": "code",
      "source": [
        "import numpy as np\n",
        "from sklearn.naive_bayes import MultinomialNB\n",
        "from tensorflow.keras.preprocessing.image import load_img, img_to_array\n",
        "BATCH_SIZE = 32\n",
        "IMAGE_SIZE = 256\n",
        "CHANNELS=3"
      ],
      "metadata": {
        "execution": {
          "iopub.status.busy": "2023-04-30T19:53:32.408945Z",
          "iopub.execute_input": "2023-04-30T19:53:32.409474Z",
          "iopub.status.idle": "2023-04-30T19:53:32.416537Z",
          "shell.execute_reply.started": "2023-04-30T19:53:32.409437Z",
          "shell.execute_reply": "2023-04-30T19:53:32.415364Z"
        },
        "trusted": true,
        "id": "ghf_yTYS3c5U"
      },
      "execution_count": 150,
      "outputs": []
    },
    {
      "cell_type": "code",
      "source": [
        "\n",
        "X_train = np.zeros((len(train), IMAGE_SIZE, IMAGE_SIZE, CHANNELS), dtype=np.uint8)\n",
        "for i, filepath in enumerate(train['filename']):\n",
        "    img = load_img(filepath, target_size=(IMAGE_SIZE, IMAGE_SIZE))\n",
        "    X_train[i] = img_to_array(img)"
      ],
      "metadata": {
        "execution": {
          "iopub.status.busy": "2023-04-30T19:53:44.566692Z",
          "iopub.execute_input": "2023-04-30T19:53:44.567865Z",
          "iopub.status.idle": "2023-04-30T19:53:47.643094Z",
          "shell.execute_reply.started": "2023-04-30T19:53:44.567801Z",
          "shell.execute_reply": "2023-04-30T19:53:47.641751Z"
        },
        "trusted": true,
        "id": "Ygwb6Dxz3c5V"
      },
      "execution_count": 152,
      "outputs": []
    },
    {
      "cell_type": "code",
      "source": [
        "# getting trainlabels\n",
        "y_train = train['label'].values"
      ],
      "metadata": {
        "id": "tkEcFVC5CktQ"
      },
      "execution_count": null,
      "outputs": []
    },
    {
      "cell_type": "code",
      "source": [
        "\n",
        "X_test = np.zeros((len(test), IMAGE_SIZE, IMAGE_SIZE, CHANNELS), dtype=np.uint8)\n",
        "for i, filepath in enumerate(test['filename']):\n",
        "    img = load_img(filepath, target_size=(IMAGE_SIZE, IMAGE_SIZE))\n",
        "    X_test[i] = img_to_array(img)\n"
      ],
      "metadata": {
        "id": "Tf5qTffSAQ1O"
      },
      "execution_count": 153,
      "outputs": []
    },
    {
      "cell_type": "code",
      "source": [
        "# getting test labels\n",
        "y_test = test['label'].values"
      ],
      "metadata": {
        "id": "CnyvfzOxCxxz"
      },
      "execution_count": null,
      "outputs": []
    },
    {
      "cell_type": "code",
      "source": [
        "\n",
        "X_train = X_train.reshape(len(train), -1)\n",
        "     "
      ],
      "metadata": {
        "execution": {
          "iopub.status.busy": "2023-04-30T19:53:47.644872Z",
          "iopub.execute_input": "2023-04-30T19:53:47.645493Z",
          "iopub.status.idle": "2023-04-30T19:53:47.652568Z",
          "shell.execute_reply.started": "2023-04-30T19:53:47.645441Z",
          "shell.execute_reply": "2023-04-30T19:53:47.650890Z"
        },
        "trusted": true,
        "id": "mpSoB4j23c5V"
      },
      "execution_count": 154,
      "outputs": []
    },
    {
      "cell_type": "code",
      "source": [
        "from sklearn.naive_bayes import MultinomialNB\n",
        "     \n",
        "nbc_model = MultinomialNB(alpha=0.1, fit_prior=False)\n",
        "nb_model = mnb_model.fit(X_train,y_train)\n",
        "     "
      ],
      "metadata": {
        "id": "M77N3BqaAbiT"
      },
      "execution_count": 155,
      "outputs": []
    },
    {
      "cell_type": "code",
      "source": [
        "# Predict the labels for the training data\n",
        "nbc_y_pred_train = mnb_model.predict(X_train.reshape(len(train), -1))"
      ],
      "metadata": {
        "id": "UFnK7bxjAtzZ"
      },
      "execution_count": 156,
      "outputs": []
    },
    {
      "cell_type": "code",
      "source": [
        "mnb_acc_train = accuracy_score(y_train, nbc_y_pred_train)\n"
      ],
      "metadata": {
        "colab": {
          "base_uri": "https://localhost:8080/"
        },
        "id": "pBQJvNPBAxOo",
        "outputId": "3bfd232b-33c2-4d36-9404-fb70517b7482"
      },
      "execution_count": 157,
      "outputs": [
        {
          "output_type": "stream",
          "name": "stdout",
          "text": [
            "Training accuracy: 0.528125\n"
          ]
        }
      ]
    },
    {
      "cell_type": "code",
      "source": [
        "print('naive bayes training accuracy:', mnb_acc_train)"
      ],
      "metadata": {
        "id": "Yll7-bTADRVu"
      },
      "execution_count": null,
      "outputs": []
    },
    {
      "cell_type": "code",
      "source": [
        "\n",
        "nbc_y_pred_test = nb_model.predict(X_test.reshape(len(test), -1))\n",
        "\n",
        "# evaluate the accuracy of the classifier on the test data\n",
        "mnb_acc_test = accuracy_score(y_test, nbc_y_pred_test)\n",
        "print('Test accuracy:', mnb_acc_test)"
      ],
      "metadata": {
        "execution": {
          "iopub.status.busy": "2023-04-30T19:54:54.988279Z",
          "iopub.execute_input": "2023-04-30T19:54:54.989822Z",
          "iopub.status.idle": "2023-04-30T19:54:55.757120Z",
          "shell.execute_reply.started": "2023-04-30T19:54:54.989732Z",
          "shell.execute_reply": "2023-04-30T19:54:55.755590Z"
        },
        "trusted": true,
        "colab": {
          "base_uri": "https://localhost:8080/"
        },
        "id": "etUo_w1A3c5X",
        "outputId": "5e6d7a91-dddd-4904-df75-f9fdad12b4d1"
      },
      "execution_count": 158,
      "outputs": [
        {
          "output_type": "stream",
          "name": "stdout",
          "text": [
            "Test accuracy: 0.5175\n"
          ]
        }
      ]
    },
    {
      "cell_type": "code",
      "source": [
        "from sklearn.metrics import accuracy_score, precision_score, recall_score, f1_score\n",
        "\n",
        "mnb_acc_test = accuracy_score(y_test, nbc_y_pred_test)\n",
        "print('Accuracy:', mnb_acc_test)\n",
        "\n",
        "mnb_pre_test = precision_score(y_test, nbc_y_pred_test, average='macro')\n",
        "print('Precision:', mnb_pre_test)\n"
      ],
      "metadata": {
        "execution": {
          "iopub.status.busy": "2023-04-30T19:54:55.759649Z",
          "iopub.execute_input": "2023-04-30T19:54:55.760729Z",
          "iopub.status.idle": "2023-04-30T19:54:55.814297Z",
          "shell.execute_reply.started": "2023-04-30T19:54:55.760666Z",
          "shell.execute_reply": "2023-04-30T19:54:55.812785Z"
        },
        "trusted": true,
        "colab": {
          "base_uri": "https://localhost:8080/"
        },
        "id": "tKkxaBRy3c5Y",
        "outputId": "b8a82508-81ec-4499-e7bb-a614bc2bc801"
      },
      "execution_count": 159,
      "outputs": [
        {
          "output_type": "stream",
          "name": "stdout",
          "text": [
            "Accuracy: 0.5175\n",
            "Precision: 0.507283526363177\n"
          ]
        }
      ]
    },
    {
      "cell_type": "code",
      "source": [
        "from sklearn.metrics import classification_report\n",
        "\n",
        "#Printing the classification report\n",
        "cr = classification_report(nbc_y_pred_test, y_test, output_dict=True)\n",
        "dfmnb = pd.DataFrame(cr).T.reset_index()\n",
        "dfmnb\n"
      ],
      "metadata": {
        "execution": {
          "iopub.status.busy": "2023-04-30T19:54:55.816723Z",
          "iopub.execute_input": "2023-04-30T19:54:55.817799Z",
          "iopub.status.idle": "2023-04-30T19:54:55.891477Z",
          "shell.execute_reply.started": "2023-04-30T19:54:55.817732Z",
          "shell.execute_reply": "2023-04-30T19:54:55.889398Z"
        },
        "trusted": true,
        "colab": {
          "base_uri": "https://localhost:8080/",
          "height": 394
        },
        "id": "PVaGygfj3c5Y",
        "outputId": "97d9e310-046c-4ba1-d2d8-e3b5274cb5c7"
      },
      "execution_count": 160,
      "outputs": [
        {
          "output_type": "execute_result",
          "data": {
            "text/plain": [
              "               index  precision    recall  f1-score   support\n",
              "0        Anthracnose   0.437500  0.488372  0.461538   86.0000\n",
              "1   Bacterial Canker   0.605263  0.522727  0.560976  132.0000\n",
              "2     Cutting Weevil   0.795918  0.672414  0.728972  116.0000\n",
              "3           Die Back   0.586207  0.708333  0.641509   96.0000\n",
              "4         Gall Midge   0.280899  0.362319  0.316456   69.0000\n",
              "5            Healthy   0.549020  0.486957  0.516129  115.0000\n",
              "6     Powdery Mildew   0.337209  0.408451  0.369427   71.0000\n",
              "7        Sooty Mould   0.474747  0.408696  0.439252  115.0000\n",
              "8           accuracy   0.517500  0.517500  0.517500    0.5175\n",
              "9          macro avg   0.508345  0.507284  0.504282  800.0000\n",
              "10      weighted avg   0.533974  0.517500  0.522275  800.0000"
            ],
            "text/html": [
              "\n",
              "  <div id=\"df-3500636d-55e6-471e-bc2b-10c20cffc308\">\n",
              "    <div class=\"colab-df-container\">\n",
              "      <div>\n",
              "<style scoped>\n",
              "    .dataframe tbody tr th:only-of-type {\n",
              "        vertical-align: middle;\n",
              "    }\n",
              "\n",
              "    .dataframe tbody tr th {\n",
              "        vertical-align: top;\n",
              "    }\n",
              "\n",
              "    .dataframe thead th {\n",
              "        text-align: right;\n",
              "    }\n",
              "</style>\n",
              "<table border=\"1\" class=\"dataframe\">\n",
              "  <thead>\n",
              "    <tr style=\"text-align: right;\">\n",
              "      <th></th>\n",
              "      <th>index</th>\n",
              "      <th>precision</th>\n",
              "      <th>recall</th>\n",
              "      <th>f1-score</th>\n",
              "      <th>support</th>\n",
              "    </tr>\n",
              "  </thead>\n",
              "  <tbody>\n",
              "    <tr>\n",
              "      <th>0</th>\n",
              "      <td>Anthracnose</td>\n",
              "      <td>0.437500</td>\n",
              "      <td>0.488372</td>\n",
              "      <td>0.461538</td>\n",
              "      <td>86.0000</td>\n",
              "    </tr>\n",
              "    <tr>\n",
              "      <th>1</th>\n",
              "      <td>Bacterial Canker</td>\n",
              "      <td>0.605263</td>\n",
              "      <td>0.522727</td>\n",
              "      <td>0.560976</td>\n",
              "      <td>132.0000</td>\n",
              "    </tr>\n",
              "    <tr>\n",
              "      <th>2</th>\n",
              "      <td>Cutting Weevil</td>\n",
              "      <td>0.795918</td>\n",
              "      <td>0.672414</td>\n",
              "      <td>0.728972</td>\n",
              "      <td>116.0000</td>\n",
              "    </tr>\n",
              "    <tr>\n",
              "      <th>3</th>\n",
              "      <td>Die Back</td>\n",
              "      <td>0.586207</td>\n",
              "      <td>0.708333</td>\n",
              "      <td>0.641509</td>\n",
              "      <td>96.0000</td>\n",
              "    </tr>\n",
              "    <tr>\n",
              "      <th>4</th>\n",
              "      <td>Gall Midge</td>\n",
              "      <td>0.280899</td>\n",
              "      <td>0.362319</td>\n",
              "      <td>0.316456</td>\n",
              "      <td>69.0000</td>\n",
              "    </tr>\n",
              "    <tr>\n",
              "      <th>5</th>\n",
              "      <td>Healthy</td>\n",
              "      <td>0.549020</td>\n",
              "      <td>0.486957</td>\n",
              "      <td>0.516129</td>\n",
              "      <td>115.0000</td>\n",
              "    </tr>\n",
              "    <tr>\n",
              "      <th>6</th>\n",
              "      <td>Powdery Mildew</td>\n",
              "      <td>0.337209</td>\n",
              "      <td>0.408451</td>\n",
              "      <td>0.369427</td>\n",
              "      <td>71.0000</td>\n",
              "    </tr>\n",
              "    <tr>\n",
              "      <th>7</th>\n",
              "      <td>Sooty Mould</td>\n",
              "      <td>0.474747</td>\n",
              "      <td>0.408696</td>\n",
              "      <td>0.439252</td>\n",
              "      <td>115.0000</td>\n",
              "    </tr>\n",
              "    <tr>\n",
              "      <th>8</th>\n",
              "      <td>accuracy</td>\n",
              "      <td>0.517500</td>\n",
              "      <td>0.517500</td>\n",
              "      <td>0.517500</td>\n",
              "      <td>0.5175</td>\n",
              "    </tr>\n",
              "    <tr>\n",
              "      <th>9</th>\n",
              "      <td>macro avg</td>\n",
              "      <td>0.508345</td>\n",
              "      <td>0.507284</td>\n",
              "      <td>0.504282</td>\n",
              "      <td>800.0000</td>\n",
              "    </tr>\n",
              "    <tr>\n",
              "      <th>10</th>\n",
              "      <td>weighted avg</td>\n",
              "      <td>0.533974</td>\n",
              "      <td>0.517500</td>\n",
              "      <td>0.522275</td>\n",
              "      <td>800.0000</td>\n",
              "    </tr>\n",
              "  </tbody>\n",
              "</table>\n",
              "</div>\n",
              "      <button class=\"colab-df-convert\" onclick=\"convertToInteractive('df-3500636d-55e6-471e-bc2b-10c20cffc308')\"\n",
              "              title=\"Convert this dataframe to an interactive table.\"\n",
              "              style=\"display:none;\">\n",
              "        \n",
              "  <svg xmlns=\"http://www.w3.org/2000/svg\" height=\"24px\"viewBox=\"0 0 24 24\"\n",
              "       width=\"24px\">\n",
              "    <path d=\"M0 0h24v24H0V0z\" fill=\"none\"/>\n",
              "    <path d=\"M18.56 5.44l.94 2.06.94-2.06 2.06-.94-2.06-.94-.94-2.06-.94 2.06-2.06.94zm-11 1L8.5 8.5l.94-2.06 2.06-.94-2.06-.94L8.5 2.5l-.94 2.06-2.06.94zm10 10l.94 2.06.94-2.06 2.06-.94-2.06-.94-.94-2.06-.94 2.06-2.06.94z\"/><path d=\"M17.41 7.96l-1.37-1.37c-.4-.4-.92-.59-1.43-.59-.52 0-1.04.2-1.43.59L10.3 9.45l-7.72 7.72c-.78.78-.78 2.05 0 2.83L4 21.41c.39.39.9.59 1.41.59.51 0 1.02-.2 1.41-.59l7.78-7.78 2.81-2.81c.8-.78.8-2.07 0-2.86zM5.41 20L4 18.59l7.72-7.72 1.47 1.35L5.41 20z\"/>\n",
              "  </svg>\n",
              "      </button>\n",
              "      \n",
              "  <style>\n",
              "    .colab-df-container {\n",
              "      display:flex;\n",
              "      flex-wrap:wrap;\n",
              "      gap: 12px;\n",
              "    }\n",
              "\n",
              "    .colab-df-convert {\n",
              "      background-color: #E8F0FE;\n",
              "      border: none;\n",
              "      border-radius: 50%;\n",
              "      cursor: pointer;\n",
              "      display: none;\n",
              "      fill: #1967D2;\n",
              "      height: 32px;\n",
              "      padding: 0 0 0 0;\n",
              "      width: 32px;\n",
              "    }\n",
              "\n",
              "    .colab-df-convert:hover {\n",
              "      background-color: #E2EBFA;\n",
              "      box-shadow: 0px 1px 2px rgba(60, 64, 67, 0.3), 0px 1px 3px 1px rgba(60, 64, 67, 0.15);\n",
              "      fill: #174EA6;\n",
              "    }\n",
              "\n",
              "    [theme=dark] .colab-df-convert {\n",
              "      background-color: #3B4455;\n",
              "      fill: #D2E3FC;\n",
              "    }\n",
              "\n",
              "    [theme=dark] .colab-df-convert:hover {\n",
              "      background-color: #434B5C;\n",
              "      box-shadow: 0px 1px 3px 1px rgba(0, 0, 0, 0.15);\n",
              "      filter: drop-shadow(0px 1px 2px rgba(0, 0, 0, 0.3));\n",
              "      fill: #FFFFFF;\n",
              "    }\n",
              "  </style>\n",
              "\n",
              "      <script>\n",
              "        const buttonEl =\n",
              "          document.querySelector('#df-3500636d-55e6-471e-bc2b-10c20cffc308 button.colab-df-convert');\n",
              "        buttonEl.style.display =\n",
              "          google.colab.kernel.accessAllowed ? 'block' : 'none';\n",
              "\n",
              "        async function convertToInteractive(key) {\n",
              "          const element = document.querySelector('#df-3500636d-55e6-471e-bc2b-10c20cffc308');\n",
              "          const dataTable =\n",
              "            await google.colab.kernel.invokeFunction('convertToInteractive',\n",
              "                                                     [key], {});\n",
              "          if (!dataTable) return;\n",
              "\n",
              "          const docLinkHtml = 'Like what you see? Visit the ' +\n",
              "            '<a target=\"_blank\" href=https://colab.research.google.com/notebooks/data_table.ipynb>data table notebook</a>'\n",
              "            + ' to learn more about interactive tables.';\n",
              "          element.innerHTML = '';\n",
              "          dataTable['output_type'] = 'display_data';\n",
              "          await google.colab.output.renderOutput(dataTable, element);\n",
              "          const docLink = document.createElement('div');\n",
              "          docLink.innerHTML = docLinkHtml;\n",
              "          element.appendChild(docLink);\n",
              "        }\n",
              "      </script>\n",
              "    </div>\n",
              "  </div>\n",
              "  "
            ]
          },
          "metadata": {},
          "execution_count": 160
        }
      ]
    },
    {
      "cell_type": "code",
      "source": [
        "from sklearn.metrics import classification_report\n",
        "import matplotlib.pyplot as plt\n",
        "import numpy as np\n",
        "\n",
        "report = classification_report(y_test, nbc_y_pred_test, target_names=class_names, output_dict=True)\n",
        "precision = [report[label]['precision'] for label in class_names]\n",
        "recall = [report[label]['recall'] for label in class_names]\n",
        "f1_score = [report[label]['f1-score'] for label in class_names]\n",
        "\n",
        "x = np.arange(len(class_names))  # the label locations\n",
        "width = 0.25  # the width of the bars\n",
        "\n",
        "fig, ax = plt.subplots()\n",
        "rects1 = ax.bar(x - width, precision, width, label='Precision')\n",
        "rects2 = ax.bar(x, recall, width, label='Recall')\n",
        "rects3 = ax.bar(x + width, f1_score, width, label='F1-score')\n",
        "\n",
        "# Add some text for labels, title and custom x-axis tick labels, etc.\n",
        "ax.set_ylabel('Scores')\n",
        "ax.set_title('Classification Report')\n",
        "ax.set_xticks(x)\n",
        "ax.set_xticklabels(class_names)\n",
        "ax.legend()\n",
        "\n",
        "fig.tight_layout()\n",
        "\n",
        "plt.show()\n"
      ],
      "metadata": {
        "execution": {
          "iopub.status.busy": "2023-04-30T19:54:55.893687Z",
          "iopub.execute_input": "2023-04-30T19:54:55.894749Z",
          "iopub.status.idle": "2023-04-30T19:54:56.387918Z",
          "shell.execute_reply.started": "2023-04-30T19:54:55.894679Z",
          "shell.execute_reply": "2023-04-30T19:54:56.386430Z"
        },
        "trusted": true,
        "colab": {
          "base_uri": "https://localhost:8080/",
          "height": 487
        },
        "id": "fzjJ0pwK3c5Z",
        "outputId": "6a17da47-9430-4800-f1e8-9771bef13f26"
      },
      "execution_count": 161,
      "outputs": [
        {
          "output_type": "display_data",
          "data": {
            "text/plain": [
              "<Figure size 640x480 with 1 Axes>"
            ],
            "image/png": "[encoded data removed]"
          },
          "metadata": {}
        }
      ]
    },
    {
      "cell_type": "markdown",
      "source": [
        "K-NEAREST NEIGHBOR"
      ],
      "metadata": {
        "id": "1MnP0jSps_4V"
      }
    },
    {
      "cell_type": "code",
      "source": [
        "import cv2\n",
        "import numpy as np\n",
        "from sklearn.neighbors import KNeighborsClassifier\n",
        "from sklearn.metrics import accuracy_score\n",
        "from sklearn.neighbors import KNeighborsClassifier"
      ],
      "metadata": {
        "execution": {
          "iopub.status.busy": "2023-04-30T19:54:56.390030Z",
          "iopub.execute_input": "2023-04-30T19:54:56.390543Z",
          "iopub.status.idle": "2023-04-30T19:54:56.398073Z",
          "shell.execute_reply.started": "2023-04-30T19:54:56.390495Z",
          "shell.execute_reply": "2023-04-30T19:54:56.396424Z"
        },
        "trusted": true,
        "id": "pdLbccEt3c5Z"
      },
      "execution_count": 162,
      "outputs": []
    },
    {
      "cell_type": "code",
      "source": [
        "\n",
        "knn_neighbors=5\n",
        "knn_clf = KNeighborsClassifier(knn_neighbors)\n",
        "\n",
        "\n"
      ],
      "metadata": {
        "id": "3TQEHuUreVQb"
      },
      "execution_count": 178,
      "outputs": []
    },
    {
      "cell_type": "code",
      "source": [
        "# Train \n",
        "knn_model=knn_clf.fit(X_train, y_train)\n",
        "\n",
        "# Predict \n",
        "knn_y_pred_train = knn_clf.predict(X_train)"
      ],
      "metadata": {
        "id": "yhZpiQQyOjPl"
      },
      "execution_count": 179,
      "outputs": []
    },
    {
      "cell_type": "code",
      "source": [
        "\n",
        "knn_train_acc = accuracy_score(y_train, knn_y_pred_train)\n",
        "print('Train accuracy:', knn_train_acc)"
      ],
      "metadata": {
        "colab": {
          "base_uri": "https://localhost:8080/"
        },
        "id": "olJmjd5HNPyv",
        "outputId": "7ebb7377-cb1d-4a9f-b449-5d8bf17c8116"
      },
      "execution_count": 180,
      "outputs": [
        {
          "output_type": "stream",
          "name": "stdout",
          "text": [
            "Train accuracy: 0.7790625\n"
          ]
        }
      ]
    },
    {
      "cell_type": "code",
      "source": [
        "\n",
        "# Predicting the labels for the test data\n",
        "knn_y_pred_test = knn_clf.predict(X_test.reshape(len(test), -1))\n"
      ],
      "metadata": {
        "colab": {
          "base_uri": "https://localhost:8080/"
        },
        "id": "oUxXisCnNS1u",
        "outputId": "f1c994a5-0fb4-4f02-b56d-c73911e71360"
      },
      "execution_count": 181,
      "outputs": [
        {
          "output_type": "stream",
          "name": "stdout",
          "text": [
            "Test accuracy: 0.68875\n"
          ]
        }
      ]
    },
    {
      "cell_type": "code",
      "source": [
        "# Evaluate the accuracy of the classifier\n",
        "knn_acc_test = accuracy_score(y_test, knn_y_pred_test)\n",
        "print('Test accuracy:', knn_acc_test)"
      ],
      "metadata": {
        "colab": {
          "base_uri": "https://localhost:8080/"
        },
        "id": "XudC6bYTPQ6Z",
        "outputId": "cc221192-3f3e-45a5-c288-64cfbe7f8c08"
      },
      "execution_count": 182,
      "outputs": [
        {
          "output_type": "stream",
          "name": "stdout",
          "text": [
            "Test accuracy: 0.68875\n"
          ]
        }
      ]
    },
    {
      "cell_type": "code",
      "source": [
        "knn_acc_test = accuracy_score(y_test, knn_y_pred_test)\n",
        "print('Test Accuracy:', knn_acc_test)\n"
      ],
      "metadata": {
        "colab": {
          "base_uri": "https://localhost:8080/"
        },
        "id": "8-X5iHE8NWua",
        "outputId": "ecfa527d-171a-4f3c-a4b6-287d1e1f4a41"
      },
      "execution_count": 183,
      "outputs": [
        {
          "output_type": "stream",
          "name": "stdout",
          "text": [
            "Test Accuracy: 0.68875\n"
          ]
        }
      ]
    },
    {
      "cell_type": "code",
      "source": [
        "knn_pre_test = precision_score(y_test, knn_y_pred_test, average='macro')\n",
        "print('Test Precision:', knn_pre_test)"
      ],
      "metadata": {
        "colab": {
          "base_uri": "https://localhost:8080/"
        },
        "id": "i3VXkLzCPXIb",
        "outputId": "af06c266-5e29-4fd1-f59f-5d8b4818a2fc"
      },
      "execution_count": 184,
      "outputs": [
        {
          "output_type": "stream",
          "name": "stdout",
          "text": [
            "Test Precision: 0.7128018912496418\n"
          ]
        }
      ]
    },
    {
      "cell_type": "markdown",
      "source": [],
      "metadata": {
        "id": "6EqoOaD03c5Z"
      }
    },
    {
      "cell_type": "code",
      "source": [
        "from sklearn.metrics import confusion_matrix\n",
        "import seaborn as sns\n",
        "import matplotlib.pyplot as plt\n",
        "import pandas as pd\n",
        "import numpy as np\n",
        "\n",
        "# confusion matrix creation\n",
        "cm = confusion_matrix(y_test, knn_y_pred_test)\n",
        "\n",
        "# Define the class names\n",
        "class_names = np.unique(y_test)\n",
        "\n",
        "# Normalize the confusion matrix\n",
        "cm = cm.astype('float') / cm.sum(axis=1)[:, np.newaxis]\n",
        "\n",
        "# Create a dataframe from the confusion matrix\n",
        "df_cm = pd.DataFrame(cm, index=class_names, columns=class_names)\n",
        "\n",
        "# Set the font scale for the heatmap\n",
        "sns.set(font_scale=1.4)\n",
        "\n",
        "# Create the heatmap\n",
        "ax = sns.heatmap(df_cm, annot=True, fmt='.2f', cmap='Blues')\n",
        "\n",
        "# Set the x and y axis labels and the title\n",
        "ax.set_xlabel('Predicted Label')\n",
        "ax.set_ylabel('True Label')\n",
        "ax.set_title('Confusion Matrix')\n",
        "\n",
        "# Show the plot\n",
        "plt.show()\n",
        "\n",
        "\n",
        "\n",
        "\n",
        "     "
      ],
      "metadata": {
        "execution": {
          "iopub.status.busy": "2023-04-30T19:55:54.297390Z",
          "iopub.status.idle": "2023-04-30T19:55:54.297887Z",
          "shell.execute_reply.started": "2023-04-30T19:55:54.297657Z",
          "shell.execute_reply": "2023-04-30T19:55:54.297683Z"
        },
        "trusted": true,
        "colab": {
          "base_uri": "https://localhost:8080/",
          "height": 651
        },
        "id": "tUmBHm_B3c5e",
        "outputId": "d832c7d3-ccf1-4e49-a3e6-f01a8574a65a"
      },
      "execution_count": 176,
      "outputs": [
        {
          "output_type": "display_data",
          "data": {
            "text/plain": [
              "<Figure size 640x480 with 2 Axes>"
            ],
            "image/png": "[encoded data removed]"
          },
          "metadata": {}
        }
      ]
    },
    {
      "cell_type": "code",
      "source": [
        "import matplotlib.pyplot as plt\n",
        "\n",
        "# List of model accuracies\n",
        "model_accuracies = []\n",
        "\n",
        "# Add accuracy of model 1\n",
        "model1_acc = 0.12\n",
        "model_accuracies.append({'model_name': 'CNN', 'accuracy': model1_acc})\n",
        "\n",
        "# Add accuracy of model 2\n",
        "model2_acc = 0.76\n",
        "model_accuracies.append({'model_name': 'KNN', 'accuracy': model2_acc})\n",
        "\n",
        "# Add accuracy of model 3\n",
        "model3_acc = 0.52\n",
        "model_accuracies.append({'model_name': 'Naive Bayes Classifier', 'accuracy': model3_acc})\n",
        "\n",
        "# Sort the models by accuracy (highest first)\n",
        "sorted_models = sorted(model_accuracies, key=lambda x: x['accuracy'], reverse=True)\n",
        "\n",
        "# Extract the model names and accuracy scores into separate lists\n",
        "model_names = [model['model_name'] for model in sorted_models]\n",
        "accuracy_scores = [model['accuracy'] for model in sorted_models]\n",
        "\n",
        "# Create a line graph of the accuracy scores for each model\n",
        "plt.plot(model_names, accuracy_scores, marker='o')\n",
        "\n",
        "# Add labels and title\n",
        "plt.xlabel('Model')\n",
        "plt.ylabel('Accuracy')\n",
        "plt.title('Comparison of Model Accuracies')\n",
        "\n",
        "# Display the line graph\n",
        "plt.show()"
      ],
      "metadata": {
        "colab": {
          "base_uri": "https://localhost:8080/",
          "height": 494
        },
        "id": "S-FO-32wg1i2",
        "outputId": "6f25ce30-7e8b-4e37-9d4e-9f4cc81dd054"
      },
      "execution_count": 185,
      "outputs": [
        {
          "output_type": "display_data",
          "data": {
            "text/plain": [
              "<Figure size 640x480 with 1 Axes>"
            ],
            "image/png": "[encoded data removed]"
          },
          "metadata": {}
        }
      ]
    }
  ]
}